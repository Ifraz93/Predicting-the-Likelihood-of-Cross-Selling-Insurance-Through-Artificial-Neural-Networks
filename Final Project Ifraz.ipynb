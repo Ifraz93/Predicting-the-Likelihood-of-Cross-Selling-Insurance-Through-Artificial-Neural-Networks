{
 "cells": [
  {
   "cell_type": "markdown",
   "metadata": {},
   "source": [
    "# INTRODUCTION"
   ]
  },
  {
   "cell_type": "markdown",
   "metadata": {},
   "source": [
    "### A large international insurance company that shall remain anonymous routinely cross-sells its insurance products. The insurance products offered for sale include medical insurance, life insurance, homeowners insurance, car insurance, etc. The insurance company incentivizes its customers to purchase multiple products by offering discounts for bundled purchases. The dataset we have been provided records the company’s attempts to cross-sell car insurance to medical insurance policyholders who are believed to own a vehicle. A contract of adhesion (insurance policy) is a mutual agreement between insurer and insured detailing coverage, compensation and cost.  "
   ]
  },
  {
   "cell_type": "markdown",
   "metadata": {},
   "source": [
    "# PROJECT OBJECTIVE"
   ]
  },
  {
   "cell_type": "markdown",
   "metadata": {},
   "source": [
    "## The project objective is to utilize the Python programming language to create, evaluate, and improve various supervised machine-learning models that can best predict the likelihood of a medical insurance customer also buying car insurance. We have been given two datasets, bzan6357_insurance_3_TRAINING.csv and bzan6357_insurance_3_SCORE.csv. The TRAINING dataset contains the following columns :  \n",
    " \n",
    " **id** : (str type) 9-letter unique customer ID   \n",
    " **buy** : (num type; target) cross-selling outcome by 30 days post-contact, 1 = “purchased\n",
    "vehicle insurance”, 0 = “no purchase”  \n",
    "**age** : (num type) customer’s age at the time of contact  \n",
    "**gender** : (str type) “male” or “female”  \n",
    "**tenure** : (num type) number of days since policyholder’s current medical insurance has started  \n",
    "**region** : (num type) unique code-number assigned to the region in which customer lives\n",
    "(caution! many discrete values!)  \n",
    "**dl** :  (num type) 1 = “has valid driver license”, 0 = “no driver license”  \n",
    "**has_v_insurance** : (num type) 1 = “already has valid car insurance”, 0 = “no valid car insurance”  \n",
    "**v_age** : (str type) vehicle age, three possible labels: “1-2 year”, “< 1 year”, “> 2 years”  \n",
    "**v_accident** : (str type) “yes” or “no”, vehicle had accident(s) before  \n",
    "**v_prem_quote** : (num type) annual premium quote for the cross-sold car insurance (local dollar,\n",
    "possibly different for each policyholder)  \n",
    "**cs_rep** : (num type) unique code-number assigned to the customer-service representative who\n",
    "attempted to cross-sell the car insurance (caution! many discrete values!)\n",
    "\n",
    "## The SCORE dataset contains all of the prevoius columns with the exception of 'buy'. "
   ]
  },
  {
   "cell_type": "markdown",
   "metadata": {},
   "source": [
    "# DATA PREPARATION"
   ]
  },
  {
   "cell_type": "markdown",
   "metadata": {},
   "source": [
    "## Import Packages"
   ]
  },
  {
   "cell_type": "code",
   "execution_count": 952,
   "metadata": {},
   "outputs": [],
   "source": [
    "#import everything, just in case\n",
    "import pandas as pd\n",
    "import numpy as np\n",
    "from numpy import NaN as NA\n",
    "import numpy.random as random\n",
    "import matplotlib.pyplot as plt\n",
    "import seaborn as sns\n",
    "from time import time\n",
    "from sklearn.preprocessing import StandardScaler, MinMaxScaler, OneHotEncoder\n",
    "from sklearn.model_selection import train_test_split\n",
    "from statsmodels.stats.weightstats import ttest_ind\n",
    "from statsmodels.stats.proportion import proportions_ztest\n",
    "from sklearn.compose import make_column_transformer\n",
    "from sklearn.metrics import accuracy_score, recall_score, roc_curve, precision_score, f1_score\n",
    "\n",
    "#inline plot\n",
    "%matplotlib inline\n",
    "\n",
    "#seaborn style\n",
    "sns.set_style('ticks')\n",
    "\n",
    "#replicable results\n",
    "np.random.seed(8)\n",
    "random_state = 30"
   ]
  },
  {
   "cell_type": "code",
   "execution_count": 953,
   "metadata": {},
   "outputs": [],
   "source": [
    "import tensorflow as tf\n",
    "# print(tf.__version__)"
   ]
  },
  {
   "cell_type": "code",
   "execution_count": 954,
   "metadata": {},
   "outputs": [],
   "source": [
    "from tensorflow import keras\n",
    "# print(keras.__version__)"
   ]
  },
  {
   "cell_type": "markdown",
   "metadata": {},
   "source": [
    "## Import data and print data"
   ]
  },
  {
   "cell_type": "code",
   "execution_count": 955,
   "metadata": {},
   "outputs": [],
   "source": [
    "#import the training and score dataset\n",
    "training_df = pd.read_csv('bzan6357_insurance_3_TRAINING.csv')\n",
    "df_score = pd.read_csv('bzan6357_insurance_3_SCORE.csv')"
   ]
  },
  {
   "cell_type": "code",
   "execution_count": 956,
   "metadata": {},
   "outputs": [
    {
     "data": {
      "text/html": [
       "<div>\n",
       "<style scoped>\n",
       "    .dataframe tbody tr th:only-of-type {\n",
       "        vertical-align: middle;\n",
       "    }\n",
       "\n",
       "    .dataframe tbody tr th {\n",
       "        vertical-align: top;\n",
       "    }\n",
       "\n",
       "    .dataframe thead th {\n",
       "        text-align: right;\n",
       "    }\n",
       "</style>\n",
       "<table border=\"1\" class=\"dataframe\">\n",
       "  <thead>\n",
       "    <tr style=\"text-align: right;\">\n",
       "      <th></th>\n",
       "      <th>id_new</th>\n",
       "      <th>age</th>\n",
       "      <th>gender</th>\n",
       "      <th>tenure</th>\n",
       "      <th>region</th>\n",
       "      <th>dl</th>\n",
       "      <th>has_v_insurance</th>\n",
       "      <th>v_age</th>\n",
       "      <th>v_accident</th>\n",
       "      <th>v_prem_quote</th>\n",
       "      <th>cs_rep</th>\n",
       "    </tr>\n",
       "  </thead>\n",
       "  <tbody>\n",
       "    <tr>\n",
       "      <th>0</th>\n",
       "      <td>a00020460</td>\n",
       "      <td>46</td>\n",
       "      <td>male</td>\n",
       "      <td>124</td>\n",
       "      <td>6</td>\n",
       "      <td>1</td>\n",
       "      <td>0</td>\n",
       "      <td>1-2 year</td>\n",
       "      <td>yes</td>\n",
       "      <td>26226</td>\n",
       "      <td>163</td>\n",
       "    </tr>\n",
       "    <tr>\n",
       "      <th>1</th>\n",
       "      <td>a00020461</td>\n",
       "      <td>25</td>\n",
       "      <td>female</td>\n",
       "      <td>285</td>\n",
       "      <td>46</td>\n",
       "      <td>1</td>\n",
       "      <td>0</td>\n",
       "      <td>&lt; 1 year</td>\n",
       "      <td>yes</td>\n",
       "      <td>44564</td>\n",
       "      <td>154</td>\n",
       "    </tr>\n",
       "    <tr>\n",
       "      <th>2</th>\n",
       "      <td>a00020462</td>\n",
       "      <td>42</td>\n",
       "      <td>male</td>\n",
       "      <td>95</td>\n",
       "      <td>28</td>\n",
       "      <td>1</td>\n",
       "      <td>1</td>\n",
       "      <td>1-2 year</td>\n",
       "      <td>no</td>\n",
       "      <td>30796</td>\n",
       "      <td>122</td>\n",
       "    </tr>\n",
       "    <tr>\n",
       "      <th>3</th>\n",
       "      <td>a00020463</td>\n",
       "      <td>39</td>\n",
       "      <td>female</td>\n",
       "      <td>229</td>\n",
       "      <td>26</td>\n",
       "      <td>1</td>\n",
       "      <td>0</td>\n",
       "      <td>1-2 year</td>\n",
       "      <td>yes</td>\n",
       "      <td>35669</td>\n",
       "      <td>163</td>\n",
       "    </tr>\n",
       "    <tr>\n",
       "      <th>4</th>\n",
       "      <td>a00020464</td>\n",
       "      <td>42</td>\n",
       "      <td>male</td>\n",
       "      <td>114</td>\n",
       "      <td>28</td>\n",
       "      <td>1</td>\n",
       "      <td>0</td>\n",
       "      <td>1-2 year</td>\n",
       "      <td>yes</td>\n",
       "      <td>32039</td>\n",
       "      <td>122</td>\n",
       "    </tr>\n",
       "    <tr>\n",
       "      <th>...</th>\n",
       "      <td>...</td>\n",
       "      <td>...</td>\n",
       "      <td>...</td>\n",
       "      <td>...</td>\n",
       "      <td>...</td>\n",
       "      <td>...</td>\n",
       "      <td>...</td>\n",
       "      <td>...</td>\n",
       "      <td>...</td>\n",
       "      <td>...</td>\n",
       "      <td>...</td>\n",
       "    </tr>\n",
       "    <tr>\n",
       "      <th>1995</th>\n",
       "      <td>a00022455</td>\n",
       "      <td>25</td>\n",
       "      <td>male</td>\n",
       "      <td>46</td>\n",
       "      <td>41</td>\n",
       "      <td>1</td>\n",
       "      <td>0</td>\n",
       "      <td>&lt; 1 year</td>\n",
       "      <td>yes</td>\n",
       "      <td>66605</td>\n",
       "      <td>154</td>\n",
       "    </tr>\n",
       "    <tr>\n",
       "      <th>1996</th>\n",
       "      <td>a00022456</td>\n",
       "      <td>45</td>\n",
       "      <td>female</td>\n",
       "      <td>248</td>\n",
       "      <td>28</td>\n",
       "      <td>1</td>\n",
       "      <td>1</td>\n",
       "      <td>1-2 year</td>\n",
       "      <td>no</td>\n",
       "      <td>37984</td>\n",
       "      <td>122</td>\n",
       "    </tr>\n",
       "    <tr>\n",
       "      <th>1997</th>\n",
       "      <td>a00022457</td>\n",
       "      <td>65</td>\n",
       "      <td>male</td>\n",
       "      <td>237</td>\n",
       "      <td>28</td>\n",
       "      <td>1</td>\n",
       "      <td>1</td>\n",
       "      <td>1-2 year</td>\n",
       "      <td>no</td>\n",
       "      <td>68068</td>\n",
       "      <td>122</td>\n",
       "    </tr>\n",
       "    <tr>\n",
       "      <th>1998</th>\n",
       "      <td>a00022458</td>\n",
       "      <td>76</td>\n",
       "      <td>male</td>\n",
       "      <td>162</td>\n",
       "      <td>28</td>\n",
       "      <td>1</td>\n",
       "      <td>0</td>\n",
       "      <td>1-2 year</td>\n",
       "      <td>yes</td>\n",
       "      <td>36590</td>\n",
       "      <td>122</td>\n",
       "    </tr>\n",
       "    <tr>\n",
       "      <th>1999</th>\n",
       "      <td>a00022459</td>\n",
       "      <td>77</td>\n",
       "      <td>male</td>\n",
       "      <td>257</td>\n",
       "      <td>28</td>\n",
       "      <td>1</td>\n",
       "      <td>0</td>\n",
       "      <td>&gt; 2 years</td>\n",
       "      <td>yes</td>\n",
       "      <td>39476</td>\n",
       "      <td>122</td>\n",
       "    </tr>\n",
       "  </tbody>\n",
       "</table>\n",
       "<p>2000 rows × 11 columns</p>\n",
       "</div>"
      ],
      "text/plain": [
       "         id_new  age  gender  tenure  region  dl  has_v_insurance      v_age  \\\n",
       "0     a00020460   46    male     124       6   1                0   1-2 year   \n",
       "1     a00020461   25  female     285      46   1                0   < 1 year   \n",
       "2     a00020462   42    male      95      28   1                1   1-2 year   \n",
       "3     a00020463   39  female     229      26   1                0   1-2 year   \n",
       "4     a00020464   42    male     114      28   1                0   1-2 year   \n",
       "...         ...  ...     ...     ...     ...  ..              ...        ...   \n",
       "1995  a00022455   25    male      46      41   1                0   < 1 year   \n",
       "1996  a00022456   45  female     248      28   1                1   1-2 year   \n",
       "1997  a00022457   65    male     237      28   1                1   1-2 year   \n",
       "1998  a00022458   76    male     162      28   1                0   1-2 year   \n",
       "1999  a00022459   77    male     257      28   1                0  > 2 years   \n",
       "\n",
       "     v_accident  v_prem_quote  cs_rep  \n",
       "0           yes         26226     163  \n",
       "1           yes         44564     154  \n",
       "2            no         30796     122  \n",
       "3           yes         35669     163  \n",
       "4           yes         32039     122  \n",
       "...         ...           ...     ...  \n",
       "1995        yes         66605     154  \n",
       "1996         no         37984     122  \n",
       "1997         no         68068     122  \n",
       "1998        yes         36590     122  \n",
       "1999        yes         39476     122  \n",
       "\n",
       "[2000 rows x 11 columns]"
      ]
     },
     "execution_count": 956,
     "metadata": {},
     "output_type": "execute_result"
    }
   ],
   "source": [
    "df_score"
   ]
  },
  {
   "cell_type": "code",
   "execution_count": 957,
   "metadata": {},
   "outputs": [
    {
     "data": {
      "text/plain": [
       "id_new             object\n",
       "age                 int64\n",
       "gender             object\n",
       "tenure              int64\n",
       "region              int64\n",
       "dl                  int64\n",
       "has_v_insurance     int64\n",
       "v_age              object\n",
       "v_accident         object\n",
       "v_prem_quote        int64\n",
       "cs_rep              int64\n",
       "dtype: object"
      ]
     },
     "execution_count": 957,
     "metadata": {},
     "output_type": "execute_result"
    }
   ],
   "source": [
    "df_score.dtypes"
   ]
  },
  {
   "cell_type": "code",
   "execution_count": 958,
   "metadata": {
    "scrolled": true
   },
   "outputs": [
    {
     "data": {
      "text/html": [
       "<div>\n",
       "<style scoped>\n",
       "    .dataframe tbody tr th:only-of-type {\n",
       "        vertical-align: middle;\n",
       "    }\n",
       "\n",
       "    .dataframe tbody tr th {\n",
       "        vertical-align: top;\n",
       "    }\n",
       "\n",
       "    .dataframe thead th {\n",
       "        text-align: right;\n",
       "    }\n",
       "</style>\n",
       "<table border=\"1\" class=\"dataframe\">\n",
       "  <thead>\n",
       "    <tr style=\"text-align: right;\">\n",
       "      <th></th>\n",
       "      <th>id_new</th>\n",
       "      <th>buy</th>\n",
       "      <th>age</th>\n",
       "      <th>gender</th>\n",
       "      <th>tenure</th>\n",
       "      <th>region</th>\n",
       "      <th>dl</th>\n",
       "      <th>has_v_insurance</th>\n",
       "      <th>v_age</th>\n",
       "      <th>v_accident</th>\n",
       "      <th>v_prem_quote</th>\n",
       "      <th>cs_rep</th>\n",
       "    </tr>\n",
       "  </thead>\n",
       "  <tbody>\n",
       "    <tr>\n",
       "      <th>0</th>\n",
       "      <td>a00000000</td>\n",
       "      <td>0</td>\n",
       "      <td>34</td>\n",
       "      <td>female</td>\n",
       "      <td>31</td>\n",
       "      <td>19</td>\n",
       "      <td>1</td>\n",
       "      <td>0</td>\n",
       "      <td>1-2 year</td>\n",
       "      <td>yes</td>\n",
       "      <td>27715</td>\n",
       "      <td>154</td>\n",
       "    </tr>\n",
       "    <tr>\n",
       "      <th>1</th>\n",
       "      <td>a00000001</td>\n",
       "      <td>0</td>\n",
       "      <td>50</td>\n",
       "      <td>male</td>\n",
       "      <td>211</td>\n",
       "      <td>34</td>\n",
       "      <td>1</td>\n",
       "      <td>0</td>\n",
       "      <td>1-2 year</td>\n",
       "      <td>yes</td>\n",
       "      <td>33945</td>\n",
       "      <td>154</td>\n",
       "    </tr>\n",
       "    <tr>\n",
       "      <th>2</th>\n",
       "      <td>a00000002</td>\n",
       "      <td>0</td>\n",
       "      <td>42</td>\n",
       "      <td>female</td>\n",
       "      <td>122</td>\n",
       "      <td>29</td>\n",
       "      <td>1</td>\n",
       "      <td>0</td>\n",
       "      <td>1-2 year</td>\n",
       "      <td>yes</td>\n",
       "      <td>37577</td>\n",
       "      <td>163</td>\n",
       "    </tr>\n",
       "    <tr>\n",
       "      <th>3</th>\n",
       "      <td>a00000003</td>\n",
       "      <td>0</td>\n",
       "      <td>28</td>\n",
       "      <td>male</td>\n",
       "      <td>75</td>\n",
       "      <td>3</td>\n",
       "      <td>1</td>\n",
       "      <td>0</td>\n",
       "      <td>1-2 year</td>\n",
       "      <td>yes</td>\n",
       "      <td>2630</td>\n",
       "      <td>154</td>\n",
       "    </tr>\n",
       "    <tr>\n",
       "      <th>4</th>\n",
       "      <td>a00000004</td>\n",
       "      <td>0</td>\n",
       "      <td>75</td>\n",
       "      <td>female</td>\n",
       "      <td>19</td>\n",
       "      <td>28</td>\n",
       "      <td>1</td>\n",
       "      <td>0</td>\n",
       "      <td>1-2 year</td>\n",
       "      <td>yes</td>\n",
       "      <td>47511</td>\n",
       "      <td>122</td>\n",
       "    </tr>\n",
       "    <tr>\n",
       "      <th>...</th>\n",
       "      <td>...</td>\n",
       "      <td>...</td>\n",
       "      <td>...</td>\n",
       "      <td>...</td>\n",
       "      <td>...</td>\n",
       "      <td>...</td>\n",
       "      <td>...</td>\n",
       "      <td>...</td>\n",
       "      <td>...</td>\n",
       "      <td>...</td>\n",
       "      <td>...</td>\n",
       "      <td>...</td>\n",
       "    </tr>\n",
       "    <tr>\n",
       "      <th>20455</th>\n",
       "      <td>a00020455</td>\n",
       "      <td>0</td>\n",
       "      <td>23</td>\n",
       "      <td>female</td>\n",
       "      <td>178</td>\n",
       "      <td>8</td>\n",
       "      <td>1</td>\n",
       "      <td>1</td>\n",
       "      <td>&lt; 1 year</td>\n",
       "      <td>no</td>\n",
       "      <td>28254</td>\n",
       "      <td>151</td>\n",
       "    </tr>\n",
       "    <tr>\n",
       "      <th>20456</th>\n",
       "      <td>a00020456</td>\n",
       "      <td>0</td>\n",
       "      <td>61</td>\n",
       "      <td>male</td>\n",
       "      <td>298</td>\n",
       "      <td>28</td>\n",
       "      <td>1</td>\n",
       "      <td>0</td>\n",
       "      <td>1-2 year</td>\n",
       "      <td>yes</td>\n",
       "      <td>46134</td>\n",
       "      <td>122</td>\n",
       "    </tr>\n",
       "    <tr>\n",
       "      <th>20457</th>\n",
       "      <td>a00020457</td>\n",
       "      <td>0</td>\n",
       "      <td>68</td>\n",
       "      <td>male</td>\n",
       "      <td>44</td>\n",
       "      <td>28</td>\n",
       "      <td>1</td>\n",
       "      <td>1</td>\n",
       "      <td>1-2 year</td>\n",
       "      <td>no</td>\n",
       "      <td>2630</td>\n",
       "      <td>122</td>\n",
       "    </tr>\n",
       "    <tr>\n",
       "      <th>20458</th>\n",
       "      <td>a00020458</td>\n",
       "      <td>0</td>\n",
       "      <td>57</td>\n",
       "      <td>male</td>\n",
       "      <td>99</td>\n",
       "      <td>28</td>\n",
       "      <td>1</td>\n",
       "      <td>0</td>\n",
       "      <td>1-2 year</td>\n",
       "      <td>yes</td>\n",
       "      <td>36407</td>\n",
       "      <td>122</td>\n",
       "    </tr>\n",
       "    <tr>\n",
       "      <th>20459</th>\n",
       "      <td>a00020459</td>\n",
       "      <td>0</td>\n",
       "      <td>24</td>\n",
       "      <td>female</td>\n",
       "      <td>264</td>\n",
       "      <td>37</td>\n",
       "      <td>1</td>\n",
       "      <td>1</td>\n",
       "      <td>&lt; 1 year</td>\n",
       "      <td>no</td>\n",
       "      <td>2630</td>\n",
       "      <td>151</td>\n",
       "    </tr>\n",
       "  </tbody>\n",
       "</table>\n",
       "<p>20460 rows × 12 columns</p>\n",
       "</div>"
      ],
      "text/plain": [
       "          id_new  buy  age  gender  tenure  region  dl  has_v_insurance  \\\n",
       "0      a00000000    0   34  female      31      19   1                0   \n",
       "1      a00000001    0   50    male     211      34   1                0   \n",
       "2      a00000002    0   42  female     122      29   1                0   \n",
       "3      a00000003    0   28    male      75       3   1                0   \n",
       "4      a00000004    0   75  female      19      28   1                0   \n",
       "...          ...  ...  ...     ...     ...     ...  ..              ...   \n",
       "20455  a00020455    0   23  female     178       8   1                1   \n",
       "20456  a00020456    0   61    male     298      28   1                0   \n",
       "20457  a00020457    0   68    male      44      28   1                1   \n",
       "20458  a00020458    0   57    male      99      28   1                0   \n",
       "20459  a00020459    0   24  female     264      37   1                1   \n",
       "\n",
       "          v_age v_accident  v_prem_quote  cs_rep  \n",
       "0      1-2 year        yes         27715     154  \n",
       "1      1-2 year        yes         33945     154  \n",
       "2      1-2 year        yes         37577     163  \n",
       "3      1-2 year        yes          2630     154  \n",
       "4      1-2 year        yes         47511     122  \n",
       "...         ...        ...           ...     ...  \n",
       "20455  < 1 year         no         28254     151  \n",
       "20456  1-2 year        yes         46134     122  \n",
       "20457  1-2 year         no          2630     122  \n",
       "20458  1-2 year        yes         36407     122  \n",
       "20459  < 1 year         no          2630     151  \n",
       "\n",
       "[20460 rows x 12 columns]"
      ]
     },
     "execution_count": 958,
     "metadata": {},
     "output_type": "execute_result"
    }
   ],
   "source": [
    "training_df"
   ]
  },
  {
   "cell_type": "code",
   "execution_count": 959,
   "metadata": {},
   "outputs": [
    {
     "data": {
      "text/plain": [
       "id_new             object\n",
       "buy                 int64\n",
       "age                 int64\n",
       "gender             object\n",
       "tenure              int64\n",
       "region              int64\n",
       "dl                  int64\n",
       "has_v_insurance     int64\n",
       "v_age              object\n",
       "v_accident         object\n",
       "v_prem_quote        int64\n",
       "cs_rep              int64\n",
       "dtype: object"
      ]
     },
     "execution_count": 959,
     "metadata": {},
     "output_type": "execute_result"
    }
   ],
   "source": [
    "training_df.dtypes"
   ]
  },
  {
   "cell_type": "markdown",
   "metadata": {},
   "source": [
    "## Preprocess data"
   ]
  },
  {
   "cell_type": "markdown",
   "metadata": {},
   "source": [
    "### Process Score "
   ]
  },
  {
   "cell_type": "code",
   "execution_count": 960,
   "metadata": {},
   "outputs": [],
   "source": [
    "score = df_score.drop(columns=['id_new'])"
   ]
  },
  {
   "cell_type": "code",
   "execution_count": 961,
   "metadata": {
    "scrolled": true
   },
   "outputs": [
    {
     "data": {
      "text/plain": [
       "(2000, 10)"
      ]
     },
     "execution_count": 961,
     "metadata": {},
     "output_type": "execute_result"
    }
   ],
   "source": [
    "score.shape"
   ]
  },
  {
   "cell_type": "markdown",
   "metadata": {},
   "source": [
    "### Perform Train Test Split"
   ]
  },
  {
   "cell_type": "code",
   "execution_count": 962,
   "metadata": {},
   "outputs": [],
   "source": [
    "X=training_df.drop(columns=['id_new','buy'])\n",
    "y=training_df['buy']"
   ]
  },
  {
   "cell_type": "code",
   "execution_count": 963,
   "metadata": {
    "scrolled": false
   },
   "outputs": [],
   "source": [
    "X_train, X_test, y_train, y_test = train_test_split(X,y,test_size=0.4, random_state=1, shuffle=True)"
   ]
  },
  {
   "cell_type": "code",
   "execution_count": 964,
   "metadata": {},
   "outputs": [
    {
     "data": {
      "text/plain": [
       "((12276, 10), (8184, 10), (12276,), (8184,))"
      ]
     },
     "execution_count": 964,
     "metadata": {},
     "output_type": "execute_result"
    }
   ],
   "source": [
    "# sanity check\n",
    "X_train.shape, X_test.shape, y_train.shape, y_test.shape"
   ]
  },
  {
   "cell_type": "markdown",
   "metadata": {},
   "source": [
    "### Hypothesis Testing"
   ]
  },
  {
   "cell_type": "code",
   "execution_count": 965,
   "metadata": {},
   "outputs": [
    {
     "name": "stdout",
     "output_type": "stream",
     "text": [
      "t-stat = -1.145, p = 0.252\n"
     ]
    }
   ],
   "source": [
    "#T-Test for equal mean on \"v_prem_quote\"\n",
    "#Null hypothesis is that \"v_prem_quote\" is the same across the train and test sets, for a satisfactory split.\n",
    "#standard alpha of .05 \n",
    "t_results=ttest_ind(X_train['v_prem_quote'],X_test['v_prem_quote'])\n",
    "print('t-stat = {:5.3f}, p = {:5.3f}'.format(t_results[0],t_results[1]))"
   ]
  },
  {
   "cell_type": "markdown",
   "metadata": {},
   "source": [
    "#### Answer:\n",
    "    Since the p-value is above the alpha of .05, we will accept the null hypothesis, that the v_prem_quote is a satisfactory random split. They are structurally similar data sets."
   ]
  },
  {
   "cell_type": "code",
   "execution_count": 966,
   "metadata": {},
   "outputs": [
    {
     "name": "stdout",
     "output_type": "stream",
     "text": [
      "t-stat = 0.657, p = 0.511\n"
     ]
    }
   ],
   "source": [
    "#T-Test for equal mean on \"tenure\"\n",
    "#Null hypothesis is that \"tenure\" is the same across the train and test sets, for a satisfactory split.\n",
    "#standard alpha of .05 \n",
    "t_results=ttest_ind(X_train['tenure'],X_test['tenure'])\n",
    "print('t-stat = {:5.3f}, p = {:5.3f}'.format(t_results[0],t_results[1]))"
   ]
  },
  {
   "cell_type": "markdown",
   "metadata": {},
   "source": [
    "#### Answer:\n",
    "    Since the p-value is above the alpha of .05, we will accept the null hypothesis, that the tenure is a satisfactory random split. They are structurally similar data sets."
   ]
  },
  {
   "cell_type": "code",
   "execution_count": 967,
   "metadata": {},
   "outputs": [
    {
     "name": "stdout",
     "output_type": "stream",
     "text": [
      "z-stat=-0.700, p=0.484\n"
     ]
    }
   ],
   "source": [
    "#z-test on target variable\n",
    "count_default_train=y_train.value_counts()[1]\n",
    "count_default_test=y_test.value_counts()[1]\n",
    "z_stat, p=proportions_ztest(count=[count_default_train, count_default_test],nobs=[y_train.shape[0],\n",
    "                                                                                 y_test.shape[0]])\n",
    "print('z-stat={:0.3f}, p={:0.3f}'.format(z_stat,p))"
   ]
  },
  {
   "cell_type": "code",
   "execution_count": 968,
   "metadata": {},
   "outputs": [
    {
     "data": {
      "text/plain": [
       "yes    8370\n",
       "no     3906\n",
       "Name: v_accident, dtype: int64"
      ]
     },
     "metadata": {},
     "output_type": "display_data"
    },
    {
     "data": {
      "text/plain": [
       "yes    5598\n",
       "no     2586\n",
       "Name: v_accident, dtype: int64"
      ]
     },
     "metadata": {},
     "output_type": "display_data"
    }
   ],
   "source": [
    "#\"v-accident\" z-test\n",
    "#null hypothesis is that v_accident is the same across the train and test sets, for a satisfactory split.\n",
    "#standard alpha of .05\n",
    "display(X_train.v_accident.value_counts(),X_test.v_accident.value_counts())"
   ]
  },
  {
   "cell_type": "code",
   "execution_count": 969,
   "metadata": {},
   "outputs": [
    {
     "data": {
      "text/plain": [
       "(3906, 2586)"
      ]
     },
     "execution_count": 969,
     "metadata": {},
     "output_type": "execute_result"
    }
   ],
   "source": [
    "count_train=X_train.v_accident.value_counts()[1]\n",
    "count_test=X_test.v_accident.value_counts()[1]\n",
    "count_train, count_test"
   ]
  },
  {
   "cell_type": "code",
   "execution_count": 970,
   "metadata": {},
   "outputs": [
    {
     "name": "stdout",
     "output_type": "stream",
     "text": [
      "z-stat = 0.331, p = 0.741\n"
     ]
    }
   ],
   "source": [
    "z_stat,p=proportions_ztest(count=[count_train,count_test],nobs=[X_train.shape[0],X_test.shape[0]])\n",
    "print('z-stat = {:0.3f}, p = {:0.3f}'.format(z_stat,p))"
   ]
  },
  {
   "cell_type": "markdown",
   "metadata": {},
   "source": [
    "#### Answer:\n",
    "    Since the p-value is above the alpha of .05, we will accept the null hypothesis, that the v_accident is a satisfactory random split. They are structurally similar data sets."
   ]
  },
  {
   "cell_type": "markdown",
   "metadata": {},
   "source": [
    "## OneHot Encoder -- Pipeline"
   ]
  },
  {
   "cell_type": "code",
   "execution_count": 971,
   "metadata": {},
   "outputs": [],
   "source": [
    "onehot_encoder=OneHotEncoder(drop='first')\n",
    "cols_onehot=[ 'region', 'cs_rep','gender','v_age','v_accident']\n",
    "#include every cat var. gender, v_age, v_accident, region, cs_rep\n"
   ]
  },
  {
   "cell_type": "code",
   "execution_count": 972,
   "metadata": {},
   "outputs": [],
   "source": [
    "#min-max-norm\n",
    "mmn_scaler=MinMaxScaler()\n",
    "cols_mmn=X_train.drop(columns=cols_onehot).columns.tolist()"
   ]
  },
  {
   "cell_type": "code",
   "execution_count": 973,
   "metadata": {
    "scrolled": false
   },
   "outputs": [],
   "source": [
    "#transform\n",
    "transformer=make_column_transformer((onehot_encoder,cols_onehot),(mmn_scaler,cols_mmn))\n",
    "\n",
    "X_train_processed = transformer.fit_transform(X_train)\n",
    "X_train_processed = pd.DataFrame(X_train_processed.toarray())\n",
    "\n",
    "#test set for train \n",
    "X_test_processed=transformer.transform(X_test)\n",
    "X_test_processed=pd.DataFrame(X_test_processed.toarray())\n",
    "\n",
    "#score processing\n",
    "\n",
    "score_processed = transformer.transform(score)\n",
    "score_processed=pd.DataFrame(score_processed.toarray())"
   ]
  },
  {
   "cell_type": "code",
   "execution_count": 974,
   "metadata": {},
   "outputs": [
    {
     "data": {
      "text/plain": [
       "((12276, 10), (8184, 10), (12276,), (8184,))"
      ]
     },
     "execution_count": 974,
     "metadata": {},
     "output_type": "execute_result"
    }
   ],
   "source": [
    "# sanity check for training set\n",
    "X_train.shape, X_test.shape, y_train.shape, y_test.shape"
   ]
  },
  {
   "cell_type": "code",
   "execution_count": 975,
   "metadata": {},
   "outputs": [
    {
     "data": {
      "text/plain": [
       "(2000, 64)"
      ]
     },
     "execution_count": 975,
     "metadata": {},
     "output_type": "execute_result"
    }
   ],
   "source": [
    "#sanity check for score set\n",
    "score_processed.shape\n"
   ]
  },
  {
   "cell_type": "code",
   "execution_count": 976,
   "metadata": {},
   "outputs": [],
   "source": [
    "# one hot encoding for y train\n",
    "y_ohe_train = pd.get_dummies(y_train, drop_first=False)\n",
    "y_ohe_train = y_ohe_train[[0,1]]\n",
    "\n",
    "# one hot encoding for y test\n",
    "y_ohe_test = pd.get_dummies(y_test, drop_first=False)\n",
    "y_ohe_test = y_ohe_test[[0,1]]\n",
    "\n",
    "# one hot encoding for score\n",
    "score_ohe = pd.get_dummies(score_processed, drop_first=False)\n",
    "score_ohe = score_ohe[[0,1]]"
   ]
  },
  {
   "cell_type": "code",
   "execution_count": 977,
   "metadata": {},
   "outputs": [
    {
     "data": {
      "text/plain": [
       "((12276, 2), (8184, 2))"
      ]
     },
     "execution_count": 977,
     "metadata": {},
     "output_type": "execute_result"
    }
   ],
   "source": [
    "y_ohe_train.shape, y_ohe_test.shape"
   ]
  },
  {
   "cell_type": "code",
   "execution_count": 978,
   "metadata": {},
   "outputs": [
    {
     "data": {
      "text/plain": [
       "((12276, 2), (8184, 2))"
      ]
     },
     "execution_count": 978,
     "metadata": {},
     "output_type": "execute_result"
    }
   ],
   "source": [
    "# Run this cell. Do not change anything!\n",
    "y_tr_ohe = y_ohe_train.squeeze().to_numpy()\n",
    "y_ts_ohe = y_ohe_test.squeeze().to_numpy()\n",
    "score_ohe = score_ohe.squeeze().to_numpy()\n",
    "\n",
    "#check\n",
    "y_tr_ohe.shape, y_ts_ohe.shape\n",
    "\n"
   ]
  },
  {
   "cell_type": "code",
   "execution_count": 979,
   "metadata": {},
   "outputs": [
    {
     "data": {
      "text/plain": [
       "(2000, 2)"
      ]
     },
     "execution_count": 979,
     "metadata": {},
     "output_type": "execute_result"
    }
   ],
   "source": [
    "score_ohe.shape"
   ]
  },
  {
   "cell_type": "code",
   "execution_count": 980,
   "metadata": {},
   "outputs": [
    {
     "name": "stdout",
     "output_type": "stream",
     "text": [
      "(12276, 2) (8184, 2)\n"
     ]
    },
    {
     "data": {
      "text/html": [
       "<div>\n",
       "<style scoped>\n",
       "    .dataframe tbody tr th:only-of-type {\n",
       "        vertical-align: middle;\n",
       "    }\n",
       "\n",
       "    .dataframe tbody tr th {\n",
       "        vertical-align: top;\n",
       "    }\n",
       "\n",
       "    .dataframe thead th {\n",
       "        text-align: right;\n",
       "    }\n",
       "</style>\n",
       "<table border=\"1\" class=\"dataframe\">\n",
       "  <thead>\n",
       "    <tr style=\"text-align: right;\">\n",
       "      <th></th>\n",
       "      <th>0</th>\n",
       "      <th>1</th>\n",
       "    </tr>\n",
       "  </thead>\n",
       "  <tbody>\n",
       "    <tr>\n",
       "      <th>14964</th>\n",
       "      <td>1</td>\n",
       "      <td>0</td>\n",
       "    </tr>\n",
       "    <tr>\n",
       "      <th>6922</th>\n",
       "      <td>1</td>\n",
       "      <td>0</td>\n",
       "    </tr>\n",
       "    <tr>\n",
       "      <th>11329</th>\n",
       "      <td>0</td>\n",
       "      <td>1</td>\n",
       "    </tr>\n",
       "  </tbody>\n",
       "</table>\n",
       "</div>"
      ],
      "text/plain": [
       "       0  1\n",
       "14964  1  0\n",
       "6922   1  0\n",
       "11329  0  1"
      ]
     },
     "metadata": {},
     "output_type": "display_data"
    },
    {
     "data": {
      "text/html": [
       "<div>\n",
       "<style scoped>\n",
       "    .dataframe tbody tr th:only-of-type {\n",
       "        vertical-align: middle;\n",
       "    }\n",
       "\n",
       "    .dataframe tbody tr th {\n",
       "        vertical-align: top;\n",
       "    }\n",
       "\n",
       "    .dataframe thead th {\n",
       "        text-align: right;\n",
       "    }\n",
       "</style>\n",
       "<table border=\"1\" class=\"dataframe\">\n",
       "  <thead>\n",
       "    <tr style=\"text-align: right;\">\n",
       "      <th></th>\n",
       "      <th>0</th>\n",
       "      <th>1</th>\n",
       "    </tr>\n",
       "  </thead>\n",
       "  <tbody>\n",
       "    <tr>\n",
       "      <th>4993</th>\n",
       "      <td>0</td>\n",
       "      <td>1</td>\n",
       "    </tr>\n",
       "    <tr>\n",
       "      <th>14760</th>\n",
       "      <td>1</td>\n",
       "      <td>0</td>\n",
       "    </tr>\n",
       "    <tr>\n",
       "      <th>9396</th>\n",
       "      <td>1</td>\n",
       "      <td>0</td>\n",
       "    </tr>\n",
       "  </tbody>\n",
       "</table>\n",
       "</div>"
      ],
      "text/plain": [
       "       0  1\n",
       "4993   0  1\n",
       "14760  1  0\n",
       "9396   1  0"
      ]
     },
     "metadata": {},
     "output_type": "display_data"
    }
   ],
   "source": [
    "# Run this cell. Do not change anything!\n",
    "print(y_ohe_train.shape, y_ohe_test.shape)\n",
    "display(y_ohe_train.sample(3, random_state=random_state), y_ohe_test.sample(3, random_state=random_state))"
   ]
  },
  {
   "cell_type": "code",
   "execution_count": 981,
   "metadata": {},
   "outputs": [
    {
     "data": {
      "text/html": [
       "<div>\n",
       "<style scoped>\n",
       "    .dataframe tbody tr th:only-of-type {\n",
       "        vertical-align: middle;\n",
       "    }\n",
       "\n",
       "    .dataframe tbody tr th {\n",
       "        vertical-align: top;\n",
       "    }\n",
       "\n",
       "    .dataframe thead th {\n",
       "        text-align: right;\n",
       "    }\n",
       "</style>\n",
       "<table border=\"1\" class=\"dataframe\">\n",
       "  <thead>\n",
       "    <tr style=\"text-align: right;\">\n",
       "      <th></th>\n",
       "      <th>mean</th>\n",
       "      <th>std</th>\n",
       "      <th>min</th>\n",
       "      <th>max</th>\n",
       "    </tr>\n",
       "  </thead>\n",
       "  <tbody>\n",
       "    <tr>\n",
       "      <th>0</th>\n",
       "      <td>0.00</td>\n",
       "      <td>0.05</td>\n",
       "      <td>0.0</td>\n",
       "      <td>1.0</td>\n",
       "    </tr>\n",
       "    <tr>\n",
       "      <th>1</th>\n",
       "      <td>0.01</td>\n",
       "      <td>0.10</td>\n",
       "      <td>0.0</td>\n",
       "      <td>1.0</td>\n",
       "    </tr>\n",
       "    <tr>\n",
       "      <th>2</th>\n",
       "      <td>0.02</td>\n",
       "      <td>0.13</td>\n",
       "      <td>0.0</td>\n",
       "      <td>1.0</td>\n",
       "    </tr>\n",
       "    <tr>\n",
       "      <th>3</th>\n",
       "      <td>0.01</td>\n",
       "      <td>0.07</td>\n",
       "      <td>0.0</td>\n",
       "      <td>1.0</td>\n",
       "    </tr>\n",
       "    <tr>\n",
       "      <th>4</th>\n",
       "      <td>0.00</td>\n",
       "      <td>0.06</td>\n",
       "      <td>0.0</td>\n",
       "      <td>1.0</td>\n",
       "    </tr>\n",
       "    <tr>\n",
       "      <th>...</th>\n",
       "      <td>...</td>\n",
       "      <td>...</td>\n",
       "      <td>...</td>\n",
       "      <td>...</td>\n",
       "    </tr>\n",
       "    <tr>\n",
       "      <th>59</th>\n",
       "      <td>0.35</td>\n",
       "      <td>0.24</td>\n",
       "      <td>0.0</td>\n",
       "      <td>1.0</td>\n",
       "    </tr>\n",
       "    <tr>\n",
       "      <th>60</th>\n",
       "      <td>0.50</td>\n",
       "      <td>0.29</td>\n",
       "      <td>0.0</td>\n",
       "      <td>1.0</td>\n",
       "    </tr>\n",
       "    <tr>\n",
       "      <th>61</th>\n",
       "      <td>1.00</td>\n",
       "      <td>0.06</td>\n",
       "      <td>0.0</td>\n",
       "      <td>1.0</td>\n",
       "    </tr>\n",
       "    <tr>\n",
       "      <th>62</th>\n",
       "      <td>0.27</td>\n",
       "      <td>0.45</td>\n",
       "      <td>0.0</td>\n",
       "      <td>1.0</td>\n",
       "    </tr>\n",
       "    <tr>\n",
       "      <th>63</th>\n",
       "      <td>0.06</td>\n",
       "      <td>0.04</td>\n",
       "      <td>0.0</td>\n",
       "      <td>1.0</td>\n",
       "    </tr>\n",
       "  </tbody>\n",
       "</table>\n",
       "<p>64 rows × 4 columns</p>\n",
       "</div>"
      ],
      "text/plain": [
       "    mean   std  min  max\n",
       "0   0.00  0.05  0.0  1.0\n",
       "1   0.01  0.10  0.0  1.0\n",
       "2   0.02  0.13  0.0  1.0\n",
       "3   0.01  0.07  0.0  1.0\n",
       "4   0.00  0.06  0.0  1.0\n",
       "..   ...   ...  ...  ...\n",
       "59  0.35  0.24  0.0  1.0\n",
       "60  0.50  0.29  0.0  1.0\n",
       "61  1.00  0.06  0.0  1.0\n",
       "62  0.27  0.45  0.0  1.0\n",
       "63  0.06  0.04  0.0  1.0\n",
       "\n",
       "[64 rows x 4 columns]"
      ]
     },
     "execution_count": 981,
     "metadata": {},
     "output_type": "execute_result"
    }
   ],
   "source": [
    "#sanity check\n",
    "X_train_processed.describe().round(2).T[['mean','std','min','max']]"
   ]
  },
  {
   "cell_type": "code",
   "execution_count": 982,
   "metadata": {},
   "outputs": [
    {
     "data": {
      "text/html": [
       "<div>\n",
       "<style scoped>\n",
       "    .dataframe tbody tr th:only-of-type {\n",
       "        vertical-align: middle;\n",
       "    }\n",
       "\n",
       "    .dataframe tbody tr th {\n",
       "        vertical-align: top;\n",
       "    }\n",
       "\n",
       "    .dataframe thead th {\n",
       "        text-align: right;\n",
       "    }\n",
       "</style>\n",
       "<table border=\"1\" class=\"dataframe\">\n",
       "  <thead>\n",
       "    <tr style=\"text-align: right;\">\n",
       "      <th></th>\n",
       "      <th>mean</th>\n",
       "      <th>std</th>\n",
       "      <th>min</th>\n",
       "      <th>max</th>\n",
       "    </tr>\n",
       "  </thead>\n",
       "  <tbody>\n",
       "    <tr>\n",
       "      <th>0</th>\n",
       "      <td>0.00</td>\n",
       "      <td>0.04</td>\n",
       "      <td>0.0</td>\n",
       "      <td>1.00</td>\n",
       "    </tr>\n",
       "    <tr>\n",
       "      <th>1</th>\n",
       "      <td>0.01</td>\n",
       "      <td>0.09</td>\n",
       "      <td>0.0</td>\n",
       "      <td>1.00</td>\n",
       "    </tr>\n",
       "    <tr>\n",
       "      <th>2</th>\n",
       "      <td>0.02</td>\n",
       "      <td>0.13</td>\n",
       "      <td>0.0</td>\n",
       "      <td>1.00</td>\n",
       "    </tr>\n",
       "    <tr>\n",
       "      <th>3</th>\n",
       "      <td>0.00</td>\n",
       "      <td>0.07</td>\n",
       "      <td>0.0</td>\n",
       "      <td>1.00</td>\n",
       "    </tr>\n",
       "    <tr>\n",
       "      <th>4</th>\n",
       "      <td>0.00</td>\n",
       "      <td>0.05</td>\n",
       "      <td>0.0</td>\n",
       "      <td>1.00</td>\n",
       "    </tr>\n",
       "    <tr>\n",
       "      <th>...</th>\n",
       "      <td>...</td>\n",
       "      <td>...</td>\n",
       "      <td>...</td>\n",
       "      <td>...</td>\n",
       "    </tr>\n",
       "    <tr>\n",
       "      <th>59</th>\n",
       "      <td>0.35</td>\n",
       "      <td>0.25</td>\n",
       "      <td>0.0</td>\n",
       "      <td>1.02</td>\n",
       "    </tr>\n",
       "    <tr>\n",
       "      <th>60</th>\n",
       "      <td>0.49</td>\n",
       "      <td>0.29</td>\n",
       "      <td>0.0</td>\n",
       "      <td>1.00</td>\n",
       "    </tr>\n",
       "    <tr>\n",
       "      <th>61</th>\n",
       "      <td>1.00</td>\n",
       "      <td>0.05</td>\n",
       "      <td>0.0</td>\n",
       "      <td>1.00</td>\n",
       "    </tr>\n",
       "    <tr>\n",
       "      <th>62</th>\n",
       "      <td>0.28</td>\n",
       "      <td>0.45</td>\n",
       "      <td>0.0</td>\n",
       "      <td>1.00</td>\n",
       "    </tr>\n",
       "    <tr>\n",
       "      <th>63</th>\n",
       "      <td>0.06</td>\n",
       "      <td>0.04</td>\n",
       "      <td>0.0</td>\n",
       "      <td>0.95</td>\n",
       "    </tr>\n",
       "  </tbody>\n",
       "</table>\n",
       "<p>64 rows × 4 columns</p>\n",
       "</div>"
      ],
      "text/plain": [
       "    mean   std  min   max\n",
       "0   0.00  0.04  0.0  1.00\n",
       "1   0.01  0.09  0.0  1.00\n",
       "2   0.02  0.13  0.0  1.00\n",
       "3   0.00  0.07  0.0  1.00\n",
       "4   0.00  0.05  0.0  1.00\n",
       "..   ...   ...  ...   ...\n",
       "59  0.35  0.25  0.0  1.02\n",
       "60  0.49  0.29  0.0  1.00\n",
       "61  1.00  0.05  0.0  1.00\n",
       "62  0.28  0.45  0.0  1.00\n",
       "63  0.06  0.04  0.0  0.95\n",
       "\n",
       "[64 rows x 4 columns]"
      ]
     },
     "execution_count": 982,
     "metadata": {},
     "output_type": "execute_result"
    }
   ],
   "source": [
    "#more sanity\n",
    "X_test_processed.describe().round(2).T[['mean','std','min','max']]"
   ]
  },
  {
   "cell_type": "markdown",
   "metadata": {},
   "source": [
    "# RELEVANT EXPLORATORY DATA ANALYSES"
   ]
  },
  {
   "cell_type": "markdown",
   "metadata": {},
   "source": [
    "## Correlation Evaluation"
   ]
  },
  {
   "cell_type": "code",
   "execution_count": 983,
   "metadata": {
    "scrolled": true
   },
   "outputs": [
    {
     "data": {
      "text/plain": [
       "<AxesSubplot:>"
      ]
     },
     "execution_count": 983,
     "metadata": {},
     "output_type": "execute_result"
    },
    {
     "data": {
      "image/png": "[encoded data removed]",
      "text/plain": [
       "<Figure size 576x576 with 2 Axes>"
      ]
     },
     "metadata": {},
     "output_type": "display_data"
    }
   ],
   "source": [
    "#correlation\n",
    "corr=training_df.corr()\n",
    "\n",
    "# prepare tools for making a half-matrix correlation heatmap\n",
    "mask = np.triu(np.ones_like(corr, bool))\n",
    "f, ax = plt.subplots(1,1, figsize=(8, 8))\n",
    "cmap = sns.diverging_palette(220, 10, as_cmap=True)\n",
    "\n",
    "#plot heat map\n",
    "sns.heatmap(corr,mask=mask, cmap=cmap,vmax=1, center=0.1, square=True, ax=ax,\n",
    "           linewidths=.5, cbar_kws={'shrink': .75})"
   ]
  },
  {
   "cell_type": "markdown",
   "metadata": {},
   "source": [
    "### As the heatmap does not show any strong correlations, no further correlation evaluation is necessary"
   ]
  },
  {
   "cell_type": "markdown",
   "metadata": {},
   "source": [
    "# MODEL DEVELOPMENT and EVALUATION"
   ]
  },
  {
   "cell_type": "markdown",
   "metadata": {},
   "source": [
    "## Adaline Model"
   ]
  },
  {
   "cell_type": "markdown",
   "metadata": {},
   "source": [
    "### Preprocess data for Adaline Model"
   ]
  },
  {
   "cell_type": "code",
   "execution_count": 984,
   "metadata": {},
   "outputs": [],
   "source": [
    "#create number data frame\n",
    "X_number=training_df.drop(columns=['buy']).select_dtypes('number')\n",
    "\n",
    "#z-standardization\n",
    "z_scaler=StandardScaler()\n",
    "scaled=z_scaler.fit_transform(X_number)\n",
    "X_number_z=pd.DataFrame(scaled, columns=X_number.columns)\n",
    "y = training_df['buy']"
   ]
  },
  {
   "cell_type": "code",
   "execution_count": 985,
   "metadata": {
    "scrolled": true
   },
   "outputs": [
    {
     "data": {
      "text/html": [
       "<div>\n",
       "<style scoped>\n",
       "    .dataframe tbody tr th:only-of-type {\n",
       "        vertical-align: middle;\n",
       "    }\n",
       "\n",
       "    .dataframe tbody tr th {\n",
       "        vertical-align: top;\n",
       "    }\n",
       "\n",
       "    .dataframe thead th {\n",
       "        text-align: right;\n",
       "    }\n",
       "</style>\n",
       "<table border=\"1\" class=\"dataframe\">\n",
       "  <thead>\n",
       "    <tr style=\"text-align: right;\">\n",
       "      <th></th>\n",
       "      <th>mean</th>\n",
       "      <th>std</th>\n",
       "      <th>min</th>\n",
       "      <th>max</th>\n",
       "    </tr>\n",
       "  </thead>\n",
       "  <tbody>\n",
       "    <tr>\n",
       "      <th>age</th>\n",
       "      <td>-0.0</td>\n",
       "      <td>1.0</td>\n",
       "      <td>-1.44</td>\n",
       "      <td>2.72</td>\n",
       "    </tr>\n",
       "    <tr>\n",
       "      <th>tenure</th>\n",
       "      <td>0.0</td>\n",
       "      <td>1.0</td>\n",
       "      <td>-1.71</td>\n",
       "      <td>1.75</td>\n",
       "    </tr>\n",
       "    <tr>\n",
       "      <th>region</th>\n",
       "      <td>-0.0</td>\n",
       "      <td>1.0</td>\n",
       "      <td>-2.30</td>\n",
       "      <td>2.19</td>\n",
       "    </tr>\n",
       "    <tr>\n",
       "      <th>dl</th>\n",
       "      <td>0.0</td>\n",
       "      <td>1.0</td>\n",
       "      <td>-18.14</td>\n",
       "      <td>0.06</td>\n",
       "    </tr>\n",
       "    <tr>\n",
       "      <th>has_v_insurance</th>\n",
       "      <td>-0.0</td>\n",
       "      <td>1.0</td>\n",
       "      <td>-0.62</td>\n",
       "      <td>1.62</td>\n",
       "    </tr>\n",
       "    <tr>\n",
       "      <th>v_prem_quote</th>\n",
       "      <td>-0.0</td>\n",
       "      <td>1.0</td>\n",
       "      <td>-1.55</td>\n",
       "      <td>23.48</td>\n",
       "    </tr>\n",
       "    <tr>\n",
       "      <th>cs_rep</th>\n",
       "      <td>-0.0</td>\n",
       "      <td>1.0</td>\n",
       "      <td>-1.11</td>\n",
       "      <td>1.34</td>\n",
       "    </tr>\n",
       "  </tbody>\n",
       "</table>\n",
       "</div>"
      ],
      "text/plain": [
       "                 mean  std    min    max\n",
       "age              -0.0  1.0  -1.44   2.72\n",
       "tenure            0.0  1.0  -1.71   1.75\n",
       "region           -0.0  1.0  -2.30   2.19\n",
       "dl                0.0  1.0 -18.14   0.06\n",
       "has_v_insurance  -0.0  1.0  -0.62   1.62\n",
       "v_prem_quote     -0.0  1.0  -1.55  23.48\n",
       "cs_rep           -0.0  1.0  -1.11   1.34"
      ]
     },
     "execution_count": 985,
     "metadata": {},
     "output_type": "execute_result"
    }
   ],
   "source": [
    "#describe new data frame\n",
    "X_number_z.describe().round(2).T[['mean','std','min','max']]"
   ]
  },
  {
   "cell_type": "markdown",
   "metadata": {},
   "source": [
    "### Initilization"
   ]
  },
  {
   "cell_type": "code",
   "execution_count": 986,
   "metadata": {},
   "outputs": [
    {
     "name": "stdout",
     "output_type": "stream",
     "text": [
      "weight (vector) w has 65 elements, as follows:\n",
      "\n",
      "[-0.0126  0.0153 -0.0097  0.0047 -0.001   0.003  -0.0173  0.0159  0.0013\n",
      " -0.0111  0.0158  0.0011 -0.0076 -0.0078  0.0138  0.0076 -0.0029  0.0054\n",
      " -0.0208  0.0094 -0.0001 -0.0047 -0.0042  0.0106 -0.029   0.0162  0.0143\n",
      " -0.0066  0.0099 -0.017  -0.011  -0.0132  0.0081 -0.0104 -0.0069 -0.0085\n",
      "  0.0111 -0.0192 -0.007   0.0085  0.0105 -0.0054 -0.0003  0.0139 -0.004\n",
      "  0.0102  0.019  -0.0035 -0.0039 -0.0193  0.0055  0.0095  0.0078 -0.0179\n",
      "  0.0124  0.0171  0.0032 -0.0099 -0.0116 -0.0002 -0.0158 -0.0124 -0.0041\n",
      " -0.0106 -0.0106]\n"
     ]
    }
   ],
   "source": [
    "#Do not include random seed\n",
    "rgen = random.RandomState(random_state)\n",
    "\n",
    "# useful variables\n",
    "n, m = X_train_processed.shape\n",
    "# ------\n",
    "epoches = 15\n",
    "eta = 0.01\n",
    "\n",
    "# critical variables\n",
    "w_old = rgen.normal(loc=0.0, scale=0.01, size = m + 1)\n",
    "delta_w = np.zeros(m + 1)\n",
    "\n",
    "# print randomly generated variables\n",
    "print(f'weight (vector) w has {w_old.shape[0]} elements, as follows:')\n",
    "print()\n",
    "print(np.around(w_old, 4))"
   ]
  },
  {
   "cell_type": "code",
   "execution_count": 987,
   "metadata": {
    "scrolled": true
   },
   "outputs": [
    {
     "name": "stdout",
     "output_type": "stream",
     "text": [
      "old weight\n",
      "[-0.0126  0.0153 -0.0097  0.0047 -0.001   0.003  -0.0173  0.0159  0.0013\n",
      " -0.0111  0.0158  0.0011 -0.0076 -0.0078  0.0138  0.0076 -0.0029  0.0054\n",
      " -0.0208  0.0094 -0.0001 -0.0047 -0.0042  0.0106 -0.029   0.0162  0.0143\n",
      " -0.0066  0.0099 -0.017  -0.011  -0.0132  0.0081 -0.0104 -0.0069 -0.0085\n",
      "  0.0111 -0.0192 -0.007   0.0085  0.0105 -0.0054 -0.0003  0.0139 -0.004\n",
      "  0.0102  0.019  -0.0035 -0.0039 -0.0193  0.0055  0.0095  0.0078 -0.0179\n",
      "  0.0124  0.0171  0.0032 -0.0099 -0.0116 -0.0002 -0.0158 -0.0124 -0.0041\n",
      " -0.0106 -0.0106]\n",
      "new weight\n",
      "[25.6426 22.7473 22.7223 22.7367 22.731  22.7351 22.7148 22.7479 22.7334\n",
      " 22.721  22.7478 22.7331 22.7244 22.7243 22.7459 22.7396 22.7292 22.7374\n",
      " 22.7112 22.7414 22.732  22.7274 22.7278 22.7427 22.703  22.7482 22.7463\n",
      " 22.7254 22.7419 22.715  22.721  22.7189 22.7401 22.7216 22.7251 22.7235\n",
      " 22.7432 22.7128 22.725  22.7405 22.7425 22.7267 22.7317 22.746  22.7281\n",
      " 22.7422 22.751  22.7285 22.7282 22.7128 22.7375 22.7416 22.7399 22.7141\n",
      " 22.7444 22.7491 22.7353 22.7221 22.7204 22.7318 22.7162 22.7196 22.7279\n",
      " 22.7215 22.7215]\n"
     ]
    }
   ],
   "source": [
    "#net input function\n",
    "z = np.dot(X_train_processed, w_old[1:]) + w_old[0]\n",
    "\n",
    "\n",
    "#activation\n",
    "z_act = z*1\n",
    "\n",
    "# #calc adaptive error using z_act and y\n",
    "error = y_train - z_act\n",
    "\n",
    "#optimization. Try to minimize cost function and print\n",
    "gradient = -np.dot(y_train.T,error)\n",
    "\n",
    "\n",
    "#compute weights and update\n",
    "delta_w[1:] = -eta*gradient\n",
    "delta_w[0] = eta * error.sum()\n",
    "w_new = w_old + delta_w\n",
    "print('old weight')\n",
    "print(np.round(w_old,4))\n",
    "print('new weight')\n",
    "print(np.round(w_new,4))\n",
    "\n"
   ]
  },
  {
   "cell_type": "markdown",
   "metadata": {},
   "source": [
    "### Logistic Regression"
   ]
  },
  {
   "cell_type": "code",
   "execution_count": 988,
   "metadata": {},
   "outputs": [
    {
     "name": "stdout",
     "output_type": "stream",
     "text": [
      "weight (vector) w has 65 elements, as follows:\n",
      "\n",
      "[-0.0126  0.0153 -0.0097  0.0047 -0.001   0.003  -0.0173  0.0159  0.0013\n",
      " -0.0111  0.0158  0.0011 -0.0076 -0.0078  0.0138  0.0076 -0.0029  0.0054\n",
      " -0.0208  0.0094 -0.0001 -0.0047 -0.0042  0.0106 -0.029   0.0162  0.0143\n",
      " -0.0066  0.0099 -0.017  -0.011  -0.0132  0.0081 -0.0104 -0.0069 -0.0085\n",
      "  0.0111 -0.0192 -0.007   0.0085  0.0105 -0.0054 -0.0003  0.0139 -0.004\n",
      "  0.0102  0.019  -0.0035 -0.0039 -0.0193  0.0055  0.0095  0.0078 -0.0179\n",
      "  0.0124  0.0171  0.0032 -0.0099 -0.0116 -0.0002 -0.0158 -0.0124 -0.0041\n",
      " -0.0106 -0.0106]\n"
     ]
    }
   ],
   "source": [
    "\n",
    "#random_state = 1\n",
    "rgen = random.RandomState(random_state)\n",
    "\n",
    "# useful variables\n",
    "n, m = X_train_processed.shape\n",
    "# ------\n",
    "epoches = 2\n",
    "eta = 0.01\n",
    "\n",
    "# critical variables\n",
    "w_old = rgen.normal(loc=0.0, scale=0.01, size = m + 1)\n",
    "delta_w = np.zeros(m + 1)\n",
    "\n",
    "# print randomly generated variables\n",
    "print(f'weight (vector) w has {w_old.shape[0]} elements, as follows:')\n",
    "print()\n",
    "print(np.around(w_old, 4))"
   ]
  },
  {
   "cell_type": "markdown",
   "metadata": {},
   "source": [
    "### For loop for logistic regression"
   ]
  },
  {
   "cell_type": "code",
   "execution_count": 989,
   "metadata": {
    "scrolled": true
   },
   "outputs": [
    {
     "name": "stdout",
     "output_type": "stream",
     "text": [
      "weight (vector) w has 65 elements, as follows:\n",
      "\n",
      "[ 0.0009  0.0109 -0.0195 -0.0139 -0.023   0.0241  0.0173  0.022   0.0079\n",
      "  0.0098 -0.0118  0.0192 -0.0112 -0.0066 -0.0038 -0.0079  0.0086 -0.0023\n",
      " -0.0007 -0.0021  0.0135 -0.0061 -0.0017  0.0042 -0.0165 -0.0048  0.0054\n",
      "  0.0117  0.0016 -0.0067  0.0144 -0.0022  0.0003  0.0018 -0.0006 -0.0054\n",
      "  0.0047 -0.0116 -0.005  -0.0041 -0.0093  0.0008  0.0014  0.0008 -0.0016\n",
      "  0.0055  0.017   0.0101 -0.0313  0.0114 -0.0187 -0.0178  0.0013 -0.0135\n",
      "  0.0155  0.007  -0.0081 -0.0164  0.0033  0.0122  0.001   0.0188  0.0053\n",
      "  0.008  -0.0031]\n"
     ]
    }
   ],
   "source": [
    "# Run this cell. Do not change anything!\n",
    "# ------\n",
    "\n",
    "#random_state = 1\n",
    "rgen = random\n",
    "\n",
    "# useful variables\n",
    "n, m = X_train_processed.shape\n",
    "# ------\n",
    "epoches = 50\n",
    "eta = 0.001\n",
    "\n",
    "# critical variables\n",
    "w_old = rgen.normal(loc=0.0, scale=0.01, size = m + 1)\n",
    "delta_w = np.zeros(m + 1)\n",
    "\n",
    "# print randomly generated variables\n",
    "print(f'weight (vector) w has {w_old.shape[0]} elements, as follows:')\n",
    "print()\n",
    "print(np.around(w_old, 4))"
   ]
  },
  {
   "cell_type": "code",
   "execution_count": 990,
   "metadata": {},
   "outputs": [],
   "source": [
    "\n",
    "cost_values = []\n",
    "for _ in range(epoches):\n",
    "\n",
    "    # net input\n",
    "    \n",
    "    z = np.dot(X_train_processed, w_old[1:]) + w_old[0]\n",
    "    \n",
    "    # activation\n",
    "    z_act = z*1\n",
    "    z_clip = np.clip(z, a_min=-250, a_max=250)\n",
    "    z_act = 1. / (1. + np.exp(-z_clip))\n",
    "     # error\n",
    "    error = y_train - z_act\n",
    "     # gradient\n",
    "    gradient = - np.dot(X_train_processed.T, error)\n",
    "    # delta_weight: two-step\n",
    "    delta_w[1:]= - eta * gradient\n",
    "    delta_w[0] = eta * error.sum()\n",
    "    # update weight\n",
    "    w_new = w_old + delta_w\n",
    "    w_old = w_new\n",
    "    # compute cost, and save cost into \"cost_values\" list\n",
    "    cost = -np.dot(y_train, np.log(z_act)) - np.dot(y_train, np.log(z_act))\n",
    "    cost_values.append(cost)"
   ]
  },
  {
   "cell_type": "markdown",
   "metadata": {},
   "source": [
    "### Model Accuracy"
   ]
  },
  {
   "cell_type": "code",
   "execution_count": 991,
   "metadata": {},
   "outputs": [
    {
     "name": "stdout",
     "output_type": "stream",
     "text": [
      "trained model made 10042.0 correct and 2234.0 incorrect classifications on the train data.\n",
      "Accuracy is 0.818\n"
     ]
    }
   ],
   "source": [
    "## Write your codes here\n",
    "#net input\n",
    "z = np.dot(X_train_processed, w_old[1:]) + w_old[0]\n",
    "#activation\n",
    "z_clip = np.clip(z, a_min=-250, a_max=250)\n",
    "z_act = 1. / (1. + np.exp(-z_clip))\n",
    "#cutoff threshold \n",
    "y_pred = (z_act >= .5).astype(int)\n",
    "#accuracy\n",
    "accuracy = accuracy_score(y_true=y_train, y_pred=y_pred)\n",
    "#calc num of correct and incorrect classifications\n",
    "n_correct = y_train.shape[0] * accuracy\n",
    "n_incorrect = y_train.shape[0] * (1-accuracy)\n",
    "#print 3 decimal places\n",
    "print('trained model made {:.1f} correct and {:.1f} incorrect classifications on the train data.'.format(\n",
    "    n_correct, n_incorrect))\n",
    "print('Accuracy is {:.3f}'.format(accuracy))"
   ]
  },
  {
   "cell_type": "code",
   "execution_count": 992,
   "metadata": {},
   "outputs": [
    {
     "data": {
      "text/plain": [
       "Text(0, 0.5, 'Cost')"
      ]
     },
     "execution_count": 992,
     "metadata": {},
     "output_type": "execute_result"
    },
    {
     "data": {
      "image/png": "[encoded data removed]",
      "text/plain": [
       "<Figure size 360x360 with 1 Axes>"
      ]
     },
     "metadata": {},
     "output_type": "display_data"
    }
   ],
   "source": [
    "# Run this cell. Do not change anything!\n",
    "fig, ax = plt.subplots(1,1, figsize=(5,5))\n",
    "plt.plot(np.arange(1, 1+epoches, 1), cost_values, marker='o', color='black')\n",
    "plt.xlabel('epoch')\n",
    "plt.ylabel('Cost')"
   ]
  },
  {
   "cell_type": "code",
   "execution_count": null,
   "metadata": {},
   "outputs": [],
   "source": []
  },
  {
   "cell_type": "markdown",
   "metadata": {},
   "source": [
    "### Tensorflow with keras"
   ]
  },
  {
   "cell_type": "code",
   "execution_count": 993,
   "metadata": {},
   "outputs": [
    {
     "data": {
      "text/plain": [
       "((12276, 10), (12276,), (8184, 10), (8184,))"
      ]
     },
     "execution_count": 993,
     "metadata": {},
     "output_type": "execute_result"
    }
   ],
   "source": [
    "#In your example y-train and y-test do not have empty y-axis\n",
    "\n",
    "X_train.shape, y_train.shape, X_test.shape, y_test.shape"
   ]
  },
  {
   "cell_type": "markdown",
   "metadata": {},
   "source": [
    "### prepare flag y data"
   ]
  },
  {
   "cell_type": "code",
   "execution_count": 994,
   "metadata": {},
   "outputs": [],
   "source": [
    "y_train_flag = np.argmax(y_train.to_numpy())\n",
    "y_test_flag = np.argmax(y_test.to_numpy())"
   ]
  },
  {
   "cell_type": "markdown",
   "metadata": {},
   "source": [
    "### convert data into numpy array"
   ]
  },
  {
   "cell_type": "code",
   "execution_count": 995,
   "metadata": {},
   "outputs": [],
   "source": [
    "\n",
    "\n",
    "#convert to numpy array\n",
    "X_train = X_train_processed.to_numpy()\n",
    "X_test = X_test_processed.to_numpy()\n",
    "\n",
    "y_train = y_train.to_numpy()\n",
    "y_test = y_test.to_numpy()\n"
   ]
  },
  {
   "cell_type": "code",
   "execution_count": 996,
   "metadata": {},
   "outputs": [
    {
     "data": {
      "text/plain": [
       "((12276, 64), (8184, 64), (8184,), (12276,))"
      ]
     },
     "execution_count": 996,
     "metadata": {},
     "output_type": "execute_result"
    }
   ],
   "source": [
    "X_train.shape, X_test.shape, y_test.shape, y_train.shape\n"
   ]
  },
  {
   "cell_type": "code",
   "execution_count": 997,
   "metadata": {},
   "outputs": [],
   "source": [
    "# universal variables\n",
    "m = 64; d = 7; t = 2\n",
    "epochs = 20\n",
    "minibatch_size = 2**5"
   ]
  },
  {
   "cell_type": "markdown",
   "metadata": {},
   "source": [
    "### define model"
   ]
  },
  {
   "cell_type": "code",
   "execution_count": 998,
   "metadata": {
    "scrolled": true
   },
   "outputs": [
    {
     "name": "stdout",
     "output_type": "stream",
     "text": [
      "Model: \"sequential_92\"\n",
      "_________________________________________________________________\n",
      "Layer (type)                 Output Shape              Param #   \n",
      "=================================================================\n",
      "hidden (Dense)               (None, 7)                 455       \n",
      "_________________________________________________________________\n",
      "output (Dense)               (None, 2)                 16        \n",
      "=================================================================\n",
      "Total params: 471\n",
      "Trainable params: 471\n",
      "Non-trainable params: 0\n",
      "_________________________________________________________________\n"
     ]
    }
   ],
   "source": [
    "# this is so that results are replicable\n",
    "# DO NOT CHANGE THIS!!\n",
    "# tf.random.set_seed(random_state)\n",
    "\n",
    "# put two layers together (1 hidden layer, 1 output layer)\n",
    "prototype_mlp = keras.Sequential([keras.layers.Dense(d, input_shape=(m,), activation='relu', name='hidden'),\n",
    "                                  keras.layers.Dense(t, activation='sigmoid', name='output')])\n",
    "prototype_mlp.summary()"
   ]
  },
  {
   "cell_type": "markdown",
   "metadata": {},
   "source": [
    "### compile model"
   ]
  },
  {
   "cell_type": "code",
   "execution_count": 999,
   "metadata": {},
   "outputs": [],
   "source": [
    "#tf.random.set_seed(random_state)\n",
    "\n",
    "prototype_mlp.compile(optimizer='sgd', loss='mean_squared_error', metrics=['accuracy'])"
   ]
  },
  {
   "cell_type": "code",
   "execution_count": 1000,
   "metadata": {
    "scrolled": true
   },
   "outputs": [
    {
     "name": "stdout",
     "output_type": "stream",
     "text": [
      "Epoch 1/20\n",
      "384/384 - 0s - loss: 0.1927 - accuracy: 0.3272\n",
      "Epoch 2/20\n",
      "384/384 - 0s - loss: 0.1603 - accuracy: 0.3677\n",
      "Epoch 3/20\n",
      "384/384 - 0s - loss: 0.1521 - accuracy: 0.4196\n",
      "Epoch 4/20\n",
      "384/384 - 0s - loss: 0.1492 - accuracy: 0.4503\n",
      "Epoch 5/20\n",
      "384/384 - 0s - loss: 0.1474 - accuracy: 0.4684\n",
      "Epoch 6/20\n",
      "384/384 - 0s - loss: 0.1461 - accuracy: 0.4763\n",
      "Epoch 7/20\n",
      "384/384 - 0s - loss: 0.1449 - accuracy: 0.4793\n",
      "Epoch 8/20\n",
      "384/384 - 0s - loss: 0.1439 - accuracy: 0.4788\n",
      "Epoch 9/20\n",
      "384/384 - 0s - loss: 0.1430 - accuracy: 0.4677\n",
      "Epoch 10/20\n",
      "384/384 - 0s - loss: 0.1421 - accuracy: 0.4595\n",
      "Epoch 11/20\n",
      "384/384 - 0s - loss: 0.1414 - accuracy: 0.4477\n",
      "Epoch 12/20\n",
      "384/384 - 0s - loss: 0.1407 - accuracy: 0.4444\n",
      "Epoch 13/20\n",
      "384/384 - 0s - loss: 0.1400 - accuracy: 0.4420\n",
      "Epoch 14/20\n",
      "384/384 - 0s - loss: 0.1394 - accuracy: 0.4370\n",
      "Epoch 15/20\n",
      "384/384 - 0s - loss: 0.1389 - accuracy: 0.4339\n",
      "Epoch 16/20\n",
      "384/384 - 0s - loss: 0.1384 - accuracy: 0.4298\n",
      "Epoch 17/20\n",
      "384/384 - 0s - loss: 0.1380 - accuracy: 0.4258\n",
      "Epoch 18/20\n",
      "384/384 - 0s - loss: 0.1375 - accuracy: 0.4202\n",
      "Epoch 19/20\n",
      "384/384 - 0s - loss: 0.1372 - accuracy: 0.4156\n",
      "Epoch 20/20\n",
      "384/384 - 0s - loss: 0.1368 - accuracy: 0.4141\n"
     ]
    }
   ],
   "source": [
    " history = prototype_mlp.fit(x=X_train, y=y_train, batch_size=minibatch_size, epochs=epochs, verbose=2)"
   ]
  },
  {
   "cell_type": "markdown",
   "metadata": {},
   "source": [
    "### another benefit of using keras"
   ]
  },
  {
   "cell_type": "markdown",
   "metadata": {},
   "source": [
    "Keep training model with updated epochs"
   ]
  },
  {
   "cell_type": "code",
   "execution_count": 1001,
   "metadata": {},
   "outputs": [
    {
     "name": "stdout",
     "output_type": "stream",
     "text": [
      "Epoch 1/10\n",
      "384/384 - 0s - loss: 0.1365 - accuracy: 0.4119\n",
      "Epoch 2/10\n",
      "384/384 - 0s - loss: 0.1362 - accuracy: 0.4106\n",
      "Epoch 3/10\n",
      "384/384 - 0s - loss: 0.1359 - accuracy: 0.4087\n",
      "Epoch 4/10\n",
      "384/384 - 0s - loss: 0.1356 - accuracy: 0.4084\n",
      "Epoch 5/10\n",
      "384/384 - 0s - loss: 0.1353 - accuracy: 0.4075\n",
      "Epoch 6/10\n",
      "384/384 - 0s - loss: 0.1351 - accuracy: 0.4048\n",
      "Epoch 7/10\n",
      "384/384 - 0s - loss: 0.1349 - accuracy: 0.4042\n",
      "Epoch 8/10\n",
      "384/384 - 0s - loss: 0.1347 - accuracy: 0.4040\n",
      "Epoch 9/10\n",
      "384/384 - 0s - loss: 0.1345 - accuracy: 0.4025\n",
      "Epoch 10/10\n",
      "384/384 - 0s - loss: 0.1343 - accuracy: 0.4022\n"
     ]
    },
    {
     "data": {
      "text/plain": [
       "<tensorflow.python.keras.callbacks.History at 0x219025941d0>"
      ]
     },
     "execution_count": 1001,
     "metadata": {},
     "output_type": "execute_result"
    }
   ],
   "source": [
    "prototype_mlp.fit(x=X_train, y=y_train, batch_size=minibatch_size, epochs=10, verbose=2)"
   ]
  },
  {
   "cell_type": "markdown",
   "metadata": {},
   "source": [
    "### train (aka \"fit\") model\n"
   ]
  },
  {
   "cell_type": "code",
   "execution_count": 1002,
   "metadata": {
    "scrolled": false
   },
   "outputs": [
    {
     "name": "stdout",
     "output_type": "stream",
     "text": [
      "Epoch 1/30\n",
      "384/384 - 0s - loss: 0.1341 - accuracy: 0.4009\n",
      "Epoch 2/30\n",
      "384/384 - 0s - loss: 0.1339 - accuracy: 0.4005\n",
      "Epoch 3/30\n",
      "384/384 - 0s - loss: 0.1338 - accuracy: 0.4005\n",
      "Epoch 4/30\n",
      "384/384 - 0s - loss: 0.1336 - accuracy: 0.4006\n",
      "Epoch 5/30\n",
      "384/384 - 0s - loss: 0.1335 - accuracy: 0.4003\n",
      "Epoch 6/30\n",
      "384/384 - 0s - loss: 0.1334 - accuracy: 0.4000\n",
      "Epoch 7/30\n",
      "384/384 - 0s - loss: 0.1332 - accuracy: 0.3990\n",
      "Epoch 8/30\n",
      "384/384 - 0s - loss: 0.1331 - accuracy: 0.3992\n",
      "Epoch 9/30\n",
      "384/384 - 0s - loss: 0.1330 - accuracy: 0.3989\n",
      "Epoch 10/30\n",
      "384/384 - 0s - loss: 0.1329 - accuracy: 0.3981\n",
      "Epoch 11/30\n",
      "384/384 - 0s - loss: 0.1328 - accuracy: 0.3975\n",
      "Epoch 12/30\n",
      "384/384 - 0s - loss: 0.1327 - accuracy: 0.3972\n",
      "Epoch 13/30\n",
      "384/384 - 0s - loss: 0.1326 - accuracy: 0.3974\n",
      "Epoch 14/30\n",
      "384/384 - 0s - loss: 0.1325 - accuracy: 0.3962\n",
      "Epoch 15/30\n",
      "384/384 - 0s - loss: 0.1324 - accuracy: 0.3969\n",
      "Epoch 16/30\n",
      "384/384 - 0s - loss: 0.1323 - accuracy: 0.3970\n",
      "Epoch 17/30\n",
      "384/384 - 0s - loss: 0.1323 - accuracy: 0.3965\n",
      "Epoch 18/30\n",
      "384/384 - 0s - loss: 0.1322 - accuracy: 0.3955\n",
      "Epoch 19/30\n",
      "384/384 - 0s - loss: 0.1321 - accuracy: 0.3941\n",
      "Epoch 20/30\n",
      "384/384 - 0s - loss: 0.1320 - accuracy: 0.3946\n",
      "Epoch 21/30\n",
      "384/384 - 0s - loss: 0.1320 - accuracy: 0.3919\n",
      "Epoch 22/30\n",
      "384/384 - 0s - loss: 0.1319 - accuracy: 0.3922\n",
      "Epoch 23/30\n",
      "384/384 - 0s - loss: 0.1318 - accuracy: 0.3909\n",
      "Epoch 24/30\n",
      "384/384 - 0s - loss: 0.1318 - accuracy: 0.3908\n",
      "Epoch 25/30\n",
      "384/384 - 0s - loss: 0.1317 - accuracy: 0.3879\n",
      "Epoch 26/30\n",
      "384/384 - 0s - loss: 0.1317 - accuracy: 0.3889\n",
      "Epoch 27/30\n",
      "384/384 - 0s - loss: 0.1316 - accuracy: 0.3886\n",
      "Epoch 28/30\n",
      "384/384 - 0s - loss: 0.1316 - accuracy: 0.3889\n",
      "Epoch 29/30\n",
      "384/384 - 0s - loss: 0.1315 - accuracy: 0.3887\n",
      "Epoch 30/30\n",
      "384/384 - 0s - loss: 0.1315 - accuracy: 0.3868\n"
     ]
    },
    {
     "data": {
      "text/plain": [
       "<tensorflow.python.keras.callbacks.History at 0x219024fa860>"
      ]
     },
     "execution_count": 1002,
     "metadata": {},
     "output_type": "execute_result"
    }
   ],
   "source": [
    "prototype_mlp.fit(x=X_train, y=y_train, batch_size=minibatch_size, epochs=30, verbose=2)"
   ]
  },
  {
   "cell_type": "markdown",
   "metadata": {},
   "source": [
    "### plot cost and accuracy curve"
   ]
  },
  {
   "cell_type": "code",
   "execution_count": 1003,
   "metadata": {},
   "outputs": [
    {
     "data": {
      "text/plain": [
       "(1.0, 21.0)"
      ]
     },
     "execution_count": 1003,
     "metadata": {},
     "output_type": "execute_result"
    },
    {
     "data": {
      "image/png": "[encoded data removed]",
      "text/plain": [
       "<Figure size 720x288 with 2 Axes>"
      ]
     },
     "metadata": {},
     "output_type": "display_data"
    }
   ],
   "source": [
    "stored_values = history.history\n",
    "\n",
    "fig, ax = plt.subplots(1,2, figsize=(10, 4))\n",
    "ax0, ax1 = ax\n",
    "ax0.plot(np.arange(1, 1+epochs, 1), stored_values['loss'], color='black', linewidth=1.4)\n",
    "ax0.set_xlabel('epochs')\n",
    "ax0.set_ylabel('average cost on train set')\n",
    "ax0.set_xlim(1, 1+epochs)\n",
    "ax1.plot(np.arange(1, 1+epochs, 1), stored_values['accuracy'], linewidth=1.4)\n",
    "ax1.set_xlabel('epochs')\n",
    "ax1.set_ylabel('accuracy on train set')\n",
    "ax1.set_xlim(1, 1+epochs)"
   ]
  },
  {
   "cell_type": "markdown",
   "metadata": {},
   "source": [
    "### evaluate model"
   ]
  },
  {
   "cell_type": "code",
   "execution_count": 1004,
   "metadata": {},
   "outputs": [
    {
     "name": "stdout",
     "output_type": "stream",
     "text": [
      "384/384 [==============================] - 0s 464us/step - loss: 0.1314 - accuracy: 0.3869\n",
      "\n",
      "accuracy of train set is 0.387\n"
     ]
    }
   ],
   "source": [
    "# train set\n",
    "cost, accuracy = prototype_mlp.evaluate(X_train, y_train)\n",
    "print()\n",
    "print('accuracy of train set is {:.3}'.format(accuracy))"
   ]
  },
  {
   "cell_type": "markdown",
   "metadata": {},
   "source": [
    "### add regularization"
   ]
  },
  {
   "cell_type": "code",
   "execution_count": 1005,
   "metadata": {},
   "outputs": [
    {
     "name": "stdout",
     "output_type": "stream",
     "text": [
      "Model: \"sequential_93\"\n",
      "_________________________________________________________________\n",
      "Layer (type)                 Output Shape              Param #   \n",
      "=================================================================\n",
      "hidden (Dense)               (None, 7)                 455       \n",
      "_________________________________________________________________\n",
      "output (Dense)               (None, 2)                 16        \n",
      "=================================================================\n",
      "Total params: 471\n",
      "Trainable params: 471\n",
      "Non-trainable params: 0\n",
      "_________________________________________________________________\n"
     ]
    }
   ],
   "source": [
    "# this is so that results are replicable\n",
    "# DO NOT CHANGE THIS!!\n",
    "#tf.random.set_seed(random_state)\n",
    "\n",
    "# put two layers together (1 hidden layer, 1 output layer) ---- Note the changes below!\n",
    "mlp_regulariz = keras.Sequential(\n",
    "    [keras.layers.Dense(d, input_shape=(m,), activation='sigmoid', name='hidden', \n",
    "                        kernel_regularizer='l2'),    #<---- note, it's lower-case \"L\", not number 1\n",
    "     keras.layers.Dense(t, activation='sigmoid', name='output', kernel_regularizer='l2')]\n",
    ")\n",
    "mlp_regulariz.summary()"
   ]
  },
  {
   "cell_type": "markdown",
   "metadata": {},
   "source": [
    "### compile model"
   ]
  },
  {
   "cell_type": "code",
   "execution_count": 1006,
   "metadata": {},
   "outputs": [],
   "source": [
    "# this is so that results are replicable\n",
    "# DO NOT CHANGE THIS!!\n",
    "#tf.random.set_seed(random_state)\n",
    "\n",
    "mlp_regulariz.compile(optimizer='adam', loss='mean_squared_error', metrics=['accuracy'])"
   ]
  },
  {
   "cell_type": "markdown",
   "metadata": {},
   "source": [
    "### train aka (fit model)"
   ]
  },
  {
   "cell_type": "code",
   "execution_count": 1007,
   "metadata": {},
   "outputs": [
    {
     "name": "stdout",
     "output_type": "stream",
     "text": [
      "Epoch 1/20\n",
      "384/384 - 0s - loss: 0.2383 - accuracy: 0.1820\n",
      "Epoch 2/20\n",
      "384/384 - 0s - loss: 0.1733 - accuracy: 0.1820\n",
      "Epoch 3/20\n",
      "384/384 - 0s - loss: 0.1620 - accuracy: 0.3415\n",
      "Epoch 4/20\n",
      "384/384 - 0s - loss: 0.1566 - accuracy: 0.4407\n",
      "Epoch 5/20\n",
      "384/384 - 0s - loss: 0.1540 - accuracy: 0.2401\n",
      "Epoch 6/20\n",
      "384/384 - 0s - loss: 0.1525 - accuracy: 0.1820\n",
      "Epoch 7/20\n",
      "384/384 - 0s - loss: 0.1516 - accuracy: 0.1820\n",
      "Epoch 8/20\n",
      "384/384 - 0s - loss: 0.1510 - accuracy: 0.1820\n",
      "Epoch 9/20\n",
      "384/384 - 0s - loss: 0.1505 - accuracy: 0.1820\n",
      "Epoch 10/20\n",
      "384/384 - 0s - loss: 0.1501 - accuracy: 0.1820\n",
      "Epoch 11/20\n",
      "384/384 - 0s - loss: 0.1498 - accuracy: 0.1820\n",
      "Epoch 12/20\n",
      "384/384 - 0s - loss: 0.1496 - accuracy: 0.1820\n",
      "Epoch 13/20\n",
      "384/384 - 0s - loss: 0.1494 - accuracy: 0.1820\n",
      "Epoch 14/20\n",
      "384/384 - 0s - loss: 0.1493 - accuracy: 0.1820\n",
      "Epoch 15/20\n",
      "384/384 - 0s - loss: 0.1492 - accuracy: 0.1820\n",
      "Epoch 16/20\n",
      "384/384 - 0s - loss: 0.1491 - accuracy: 0.1820\n",
      "Epoch 17/20\n",
      "384/384 - 0s - loss: 0.1491 - accuracy: 0.1820\n",
      "Epoch 18/20\n",
      "384/384 - 0s - loss: 0.1490 - accuracy: 0.1820\n",
      "Epoch 19/20\n",
      "384/384 - 0s - loss: 0.1490 - accuracy: 0.1820\n",
      "Epoch 20/20\n",
      "384/384 - 0s - loss: 0.1490 - accuracy: 0.1820\n"
     ]
    }
   ],
   "source": [
    "history = mlp_regulariz.fit(x=X_train, y=y_train, batch_size=minibatch_size, epochs=epochs, verbose=2)"
   ]
  },
  {
   "cell_type": "markdown",
   "metadata": {},
   "source": [
    "### plot cost and accuracy curve"
   ]
  },
  {
   "cell_type": "code",
   "execution_count": 1008,
   "metadata": {
    "scrolled": true
   },
   "outputs": [
    {
     "data": {
      "text/plain": [
       "(1.0, 21.0)"
      ]
     },
     "execution_count": 1008,
     "metadata": {},
     "output_type": "execute_result"
    },
    {
     "data": {
      "image/png": "[encoded data removed]",
      "text/plain": [
       "<Figure size 720x288 with 2 Axes>"
      ]
     },
     "metadata": {},
     "output_type": "display_data"
    }
   ],
   "source": [
    "stored_values = history.history\n",
    "\n",
    "fig, ax = plt.subplots(1,2, figsize=(10, 4))\n",
    "ax0, ax1 = ax\n",
    "ax0.plot(np.arange(1, 1+epochs, 1), stored_values['loss'], color='black', linewidth=1.4)\n",
    "ax0.set_xlabel('epochs')\n",
    "ax0.set_ylabel('average cost on train set')\n",
    "ax0.set_xlim(1, 1+epochs)\n",
    "ax1.plot(np.arange(1, 1+epochs, 1), stored_values['accuracy'], linewidth=1.4)\n",
    "ax1.set_xlabel('epochs')\n",
    "ax1.set_ylabel('accuracy on train set')\n",
    "ax1.set_xlim(1, 1+epochs)"
   ]
  },
  {
   "cell_type": "markdown",
   "metadata": {},
   "source": [
    "### evaluate"
   ]
  },
  {
   "cell_type": "code",
   "execution_count": 1009,
   "metadata": {},
   "outputs": [
    {
     "name": "stdout",
     "output_type": "stream",
     "text": [
      "384/384 [==============================] - 0s 467us/step - loss: 0.1489 - accuracy: 0.1820\n",
      "\n",
      "accuracy of train set is 0.182\n"
     ]
    }
   ],
   "source": [
    "# train set\n",
    "cost, accuracy = mlp_regulariz.evaluate(X_train, y_train)\n",
    "print()\n",
    "print('accuracy of train set is {:.3}'.format(accuracy))"
   ]
  },
  {
   "cell_type": "markdown",
   "metadata": {},
   "source": [
    "### Add validation process\n",
    "We will allocate the trailing 10% of the train dataset as the validation set during model training.\n",
    ">It is fine to not randomly shuffle the data before allocating the last 10% of data because the train dataset is already a random subset splitted from the original data"
   ]
  },
  {
   "cell_type": "markdown",
   "metadata": {},
   "source": [
    "### define a model\n",
    "First, define model (with regularization) as above"
   ]
  },
  {
   "cell_type": "code",
   "execution_count": 1010,
   "metadata": {},
   "outputs": [
    {
     "name": "stdout",
     "output_type": "stream",
     "text": [
      "Model: \"sequential_94\"\n",
      "_________________________________________________________________\n",
      "Layer (type)                 Output Shape              Param #   \n",
      "=================================================================\n",
      "hidden (Dense)               (None, 7)                 455       \n",
      "_________________________________________________________________\n",
      "output (Dense)               (None, 2)                 16        \n",
      "=================================================================\n",
      "Total params: 471\n",
      "Trainable params: 471\n",
      "Non-trainable params: 0\n",
      "_________________________________________________________________\n"
     ]
    }
   ],
   "source": [
    "# this is so that results are replicable\n",
    "# DO NOT CHANGE THIS!!\n",
    "tf.random.set_seed(random_state)\n",
    "\n",
    "# put two layers together (1 hidden layer, 1 output layer)\n",
    "mlp_val = keras.Sequential(\n",
    "    [keras.layers.Dense(d, input_shape=(m,), activation='sigmoid', name='hidden', kernel_regularizer='l2'),\n",
    "     keras.layers.Dense(t, activation='sigmoid', name='output', kernel_regularizer='l2')]\n",
    ")\n",
    "mlp_val.summary()"
   ]
  },
  {
   "cell_type": "markdown",
   "metadata": {},
   "source": [
    "### compile"
   ]
  },
  {
   "cell_type": "code",
   "execution_count": 1011,
   "metadata": {},
   "outputs": [],
   "source": [
    "# this is so that results are replicable\n",
    "# DO NOT CHANGE THIS!!\n",
    "tf.random.set_seed(random_state)\n",
    "\n",
    "mlp_val.compile(optimizer='adam', loss='binary_crossentropy', metrics=['accuracy'])"
   ]
  },
  {
   "cell_type": "markdown",
   "metadata": {},
   "source": [
    "### train aka fit"
   ]
  },
  {
   "cell_type": "code",
   "execution_count": 1012,
   "metadata": {
    "scrolled": true
   },
   "outputs": [
    {
     "name": "stdout",
     "output_type": "stream",
     "text": [
      "Epoch 1/20\n",
      "384/384 - 0s - loss: 0.1314 - accuracy: 0.3871\n",
      "Epoch 2/20\n",
      "384/384 - 0s - loss: 0.1314 - accuracy: 0.3860\n",
      "Epoch 3/20\n",
      "384/384 - 0s - loss: 0.1313 - accuracy: 0.3861\n",
      "Epoch 4/20\n",
      "384/384 - 0s - loss: 0.1313 - accuracy: 0.3855\n",
      "Epoch 5/20\n",
      "384/384 - 0s - loss: 0.1313 - accuracy: 0.3857\n",
      "Epoch 6/20\n",
      "384/384 - 0s - loss: 0.1312 - accuracy: 0.3842\n",
      "Epoch 7/20\n",
      "384/384 - 0s - loss: 0.1312 - accuracy: 0.3849\n",
      "Epoch 8/20\n",
      "384/384 - 0s - loss: 0.1312 - accuracy: 0.3847\n",
      "Epoch 9/20\n",
      "384/384 - 0s - loss: 0.1311 - accuracy: 0.3843\n",
      "Epoch 10/20\n",
      "384/384 - 0s - loss: 0.1311 - accuracy: 0.3847\n",
      "Epoch 11/20\n",
      "384/384 - 0s - loss: 0.1311 - accuracy: 0.3838\n",
      "Epoch 12/20\n",
      "384/384 - 0s - loss: 0.1310 - accuracy: 0.3842\n",
      "Epoch 13/20\n",
      "384/384 - 0s - loss: 0.1310 - accuracy: 0.3840\n",
      "Epoch 14/20\n",
      "384/384 - 0s - loss: 0.1310 - accuracy: 0.3829\n",
      "Epoch 15/20\n",
      "384/384 - 0s - loss: 0.1310 - accuracy: 0.3844\n",
      "Epoch 16/20\n",
      "384/384 - 0s - loss: 0.1309 - accuracy: 0.3844\n",
      "Epoch 17/20\n",
      "384/384 - 0s - loss: 0.1309 - accuracy: 0.3843\n",
      "Epoch 18/20\n",
      "384/384 - 0s - loss: 0.1309 - accuracy: 0.3833\n",
      "Epoch 19/20\n",
      "384/384 - 0s - loss: 0.1309 - accuracy: 0.3826\n",
      "Epoch 20/20\n",
      "384/384 - 0s - loss: 0.1308 - accuracy: 0.3825\n"
     ]
    }
   ],
   "source": [
    "history = prototype_mlp.fit(x=X_train, y=y_train, batch_size=minibatch_size, epochs=epochs, verbose=2)"
   ]
  },
  {
   "cell_type": "markdown",
   "metadata": {},
   "source": [
    "# Compared the 4 versions side-by-side\n",
    "For a clear comparison, train each model using two different setups:\n",
    "1. fewer epochs to see differences in early training efficiency\n",
    "1. much more epochs after models are fully trained to see differences of model performance on test-set"
   ]
  },
  {
   "cell_type": "code",
   "execution_count": 1013,
   "metadata": {},
   "outputs": [],
   "source": [
    "mlp_list = {'setup_1':[], 'setup_2':[]}\n",
    "scores_list = {'setup_1':[], 'setup_2':[]}"
   ]
  },
  {
   "cell_type": "markdown",
   "metadata": {},
   "source": [
    "**The four model versions:**\n",
    "1. basic MLP, SGD\n",
    "1. MLP with L2 regularization, Adam\n",
    "1. MLP with L2 regularization, Adam, 10% train set allotted to validation set\n",
    "1. MLP with L2 regularization, Adam, 10% validation, improved activation functions"
   ]
  },
  {
   "cell_type": "code",
   "execution_count": 1014,
   "metadata": {},
   "outputs": [],
   "source": [
    "model_notes_list = ['basic MLP, SGD', \n",
    "                    'MLP L2 regulariz, sgd', \n",
    "                    'MLP L2 regulariz, sgd, 10% validation set', \n",
    "                    'MLP L2 regulariz, sgd, 10% validation set, ReLU & Softmax']"
   ]
  },
  {
   "cell_type": "markdown",
   "metadata": {},
   "source": [
    "## *setup no. 1*"
   ]
  },
  {
   "cell_type": "code",
   "execution_count": 1015,
   "metadata": {},
   "outputs": [
    {
     "name": "stdout",
     "output_type": "stream",
     "text": [
      "basic MLP, SGD\n",
      "\n",
      "MLP L2 regulariz, sgd\n",
      "\n",
      "MLP L2 regulariz, sgd, 10% validation set\n",
      "\n",
      "MLP L2 regulariz, sgd, 10% validation set, ReLU & Softmax\n",
      "\n",
      "Took 0 mins and 13 sec\n"
     ]
    }
   ],
   "source": [
    "epochs = 20\n",
    "\n",
    "# this is so that results are replicable\n",
    "# DO NOT CHANGE THIS!!\n",
    "#tf.random.set_seed(random_state)\n",
    "\n",
    "# track time\n",
    "start = time()\n",
    "\n",
    "#1\n",
    "print(model_notes_list[0])\n",
    "mlp = keras.Sequential([keras.layers.Dense(d, input_shape=(m,), activation='sigmoid', name='hidden'),\n",
    "                        keras.layers.Dense(t, activation='sigmoid', name='output')])\n",
    "mlp.compile(optimizer='sgd', loss='mean_squared_error', metrics=['accuracy'])\n",
    "history = mlp.fit(x=X_train, y=y_train, batch_size=minibatch_size, epochs=epochs, verbose=0)\n",
    "scores = history.history\n",
    "mlp_list['setup_1'].append(mlp); scores_list['setup_1'].append(scores)\n",
    "\n",
    "#2\n",
    "print('\\n' + model_notes_list[1])\n",
    "mlp = keras.Sequential([keras.layers.Dense(d, input_shape=(m,), activation='sigmoid', name='hidden', kernel_regularizer='l2'),\n",
    "                        keras.layers.Dense(t, activation='sigmoid', name='output', kernel_regularizer='l2')])\n",
    "mlp.compile(optimizer='sgd', loss='mean_squared_error', metrics=['accuracy'])\n",
    "history = mlp.fit(x=X_train, y=y_train, batch_size=minibatch_size, epochs=epochs, verbose=0)\n",
    "scores = history.history\n",
    "\n",
    "\n",
    "#3\n",
    "print('\\n' + model_notes_list[2])\n",
    "mlp = keras.Sequential([keras.layers.Dense(d, input_shape=(m,), activation='sigmoid', name='hidden', kernel_regularizer='l2'),\n",
    "                        keras.layers.Dense(t, activation='sigmoid', name='output', kernel_regularizer='l2')])\n",
    "mlp.compile(optimizer='sgd', loss='mean_squared_error', metrics=['accuracy'])\n",
    "history = mlp.fit(x=X_train, y=y_train, batch_size=minibatch_size, epochs=epochs, verbose=0, validation_split=0.1)\n",
    "scores = history.history\n",
    "\n",
    "\n",
    "#4\n",
    "print('\\n' + model_notes_list[3])\n",
    "mlp = keras.Sequential([keras.layers.Dense(d, input_shape=(m,), activation='relu', name='hidden', kernel_regularizer='l2'),\n",
    "                        keras.layers.Dense(t, activation='softmax', name='output', kernel_regularizer='l2')])\n",
    "mlp.compile(optimizer='sgd', loss='mean_squared_error', metrics=['accuracy'])\n",
    "history = mlp.fit(x=X_train, y=y_train, batch_size=minibatch_size, epochs=epochs, verbose=0, validation_split=0.1)\n",
    "scores = history.history\n",
    "mlp_list['setup_1'].append(mlp); scores_list['setup_1'].append(scores)\n",
    "\n",
    "# track time\n",
    "seconds = time() - start\n",
    "mins, sec = divmod(seconds, 60)   # <-- divmod() returns a tuple of (quotient, remainder) after division\n",
    "print('\\nTook {:.0f} mins and {:.0f} sec'.format(mins, sec))"
   ]
  },
  {
   "cell_type": "markdown",
   "metadata": {},
   "source": [
    "## *setup no. 2*"
   ]
  },
  {
   "cell_type": "code",
   "execution_count": 1016,
   "metadata": {},
   "outputs": [
    {
     "name": "stdout",
     "output_type": "stream",
     "text": [
      "basic MLP, SGD\n",
      "\n",
      "MLP L2 regulariz, sgd\n",
      "\n",
      "MLP L2 regulariz, sgd, 10% validation set\n",
      "\n",
      "MLP L2 regulariz, sgd, 10% validation set, ReLU & Softmax\n",
      "\n",
      "Took 0 mins and 13 sec\n"
     ]
    }
   ],
   "source": [
    "epochs = 20\n",
    "\n",
    "# this is so that results are replicable\n",
    "# DO NOT CHANGE THIS!!\n",
    "#tf.random.set_seed(random_state)\n",
    "\n",
    "# track time\n",
    "start = time()\n",
    "\n",
    "#1\n",
    "print(model_notes_list[0])\n",
    "mlp = keras.Sequential([keras.layers.Dense(d, input_shape=(m,), activation='sigmoid', name='hidden'),\n",
    "                        keras.layers.Dense(t, activation='sigmoid', name='output')])\n",
    "mlp.compile(optimizer='sgd', loss='mean_squared_error', metrics=['accuracy'])\n",
    "history = mlp.fit(x=X_train, y=y_train, batch_size=minibatch_size, epochs=epochs, verbose=0)\n",
    "scores = history.history\n",
    "mlp_list['setup_2'].append(mlp); scores_list['setup_2'].append(scores)\n",
    "\n",
    "#2\n",
    "print('\\n' + model_notes_list[1])\n",
    "mlp = keras.Sequential([keras.layers.Dense(d, input_shape=(m,), activation='sigmoid', name='hidden', kernel_regularizer='l2'),\n",
    "                        keras.layers.Dense(t, activation='sigmoid', name='output', kernel_regularizer='l2')])\n",
    "mlp.compile(optimizer='adam', loss='mean_squared_error', metrics=['accuracy'])\n",
    "history = mlp.fit(x=X_train, y=y_train, batch_size=minibatch_size, epochs=epochs, verbose=0)\n",
    "scores = history.history\n",
    "mlp_list['setup_2'].append(mlp); scores_list['setup_2'].append(scores)\n",
    "\n",
    "#3\n",
    "print('\\n' + model_notes_list[2])\n",
    "mlp = keras.Sequential([keras.layers.Dense(d, input_shape=(m,), activation='sigmoid', name='hidden', kernel_regularizer='l2'),\n",
    "                        keras.layers.Dense(t, activation='sigmoid', name='output', kernel_regularizer='l2')])\n",
    "mlp.compile(optimizer='adam', loss='mean_squared_error', metrics=['accuracy'])\n",
    "history = mlp.fit(x=X_train, y=y_train, batch_size=minibatch_size, epochs=epochs, verbose=0, validation_split=0.1)\n",
    "scores = history.history\n",
    "mlp_list['setup_2'].append(mlp); scores_list['setup_2'].append(scores)\n",
    "\n",
    "#4\n",
    "print('\\n' + model_notes_list[3])\n",
    "mlp = keras.Sequential([keras.layers.Dense(d, input_shape=(m,), activation='relu', name='hidden', kernel_regularizer='l2'),\n",
    "                        keras.layers.Dense(t, activation='softmax', name='output', kernel_regularizer='l2')])\n",
    "mlp.compile(optimizer='adam', loss='mean_squared_error', metrics=['accuracy'])\n",
    "history = mlp.fit(x=X_train, y=y_train, batch_size=minibatch_size, epochs=epochs, verbose=0, validation_split=0.1)\n",
    "scores = history.history\n",
    "mlp_list['setup_2'].append(mlp); scores_list['setup_2'].append(scores)\n",
    "\n",
    "# track time\n",
    "seconds = time() - start\n",
    "mins, sec = divmod(seconds, 60)   # <-- divmod() returns a tuple of (quotient, remainder) after division\n",
    "print('\\nTook {:.0f} mins and {:.0f} sec'.format(mins, sec))"
   ]
  },
  {
   "cell_type": "markdown",
   "metadata": {},
   "source": [
    "### plot cost curve of 4 models"
   ]
  },
  {
   "cell_type": "code",
   "execution_count": 1017,
   "metadata": {
    "scrolled": true
   },
   "outputs": [
    {
     "data": {
      "image/png": "[encoded data removed]",
      "text/plain": [
       "<Figure size 720x720 with 4 Axes>"
      ]
     },
     "metadata": {},
     "output_type": "display_data"
    }
   ],
   "source": [
    "fig, ax = plt.subplots(2,2, sharex=True, sharey=True, figsize=(10, 10))\n",
    "for i in range(2):\n",
    "    for j in range(2):\n",
    "        axx = ax[i, j]\n",
    "        axx.plot(scores_list['setup_2'][i+j+(i==1)]['loss'])\n",
    "        axx.set_title(model_notes_list[i+j+(i==1)])\n",
    "        axx.set_xlabel('epochs')\n",
    "        axx.set_ylabel('cost')"
   ]
  },
  {
   "cell_type": "markdown",
   "metadata": {},
   "source": [
    "### plot train set accuracy of 4 models"
   ]
  },
  {
   "cell_type": "code",
   "execution_count": 1018,
   "metadata": {},
   "outputs": [
    {
     "data": {
      "image/png": "[encoded data removed]",
      "text/plain": [
       "<Figure size 720x720 with 4 Axes>"
      ]
     },
     "metadata": {},
     "output_type": "display_data"
    }
   ],
   "source": [
    "fig, ax = plt.subplots(2,2, sharex=True, sharey=True, figsize=(10, 10))\n",
    "for i in range(2):\n",
    "    for j in range(2):\n",
    "        axx = ax[i, j]\n",
    "        axx.plot(scores_list['setup_2'][i+j+(i==1)]['accuracy'])\n",
    "        axx.set_title(model_notes_list[i+j+(i==1)])\n",
    "        axx.set_xlabel('epochs')\n",
    "        axx.set_ylabel('train set accuracy')"
   ]
  },
  {
   "cell_type": "markdown",
   "metadata": {},
   "source": [
    "### finally, examine test set accuracy after sufficient training of all 4 models"
   ]
  },
  {
   "cell_type": "code",
   "execution_count": 1019,
   "metadata": {},
   "outputs": [
    {
     "name": "stdout",
     "output_type": "stream",
     "text": [
      "256/256 [==============================] - 0s 493us/step - loss: 0.1498 - accuracy: 0.5084\n",
      "256/256 [==============================] - 0s 491us/step - loss: 0.1513 - accuracy: 0.8141\n",
      "256/256 [==============================] - 0s 466us/step - loss: 0.1514 - accuracy: 0.8141\n",
      "256/256 [==============================] - 0s 463us/step - loss: 0.2500 - accuracy: 0.8141\n"
     ]
    }
   ],
   "source": [
    "test_cost_list = []\n",
    "test_accuracy_list = []\n",
    "for model in mlp_list['setup_2']:\n",
    "    cost, accuracy = model.evaluate(X_test, y_test)\n",
    "    test_cost_list.append(cost)\n",
    "    test_accuracy_list.append(accuracy)"
   ]
  },
  {
   "cell_type": "code",
   "execution_count": 1020,
   "metadata": {
    "scrolled": true
   },
   "outputs": [
    {
     "name": "stdout",
     "output_type": "stream",
     "text": [
      "--------------------------------------------------\n",
      "model: basic MLP, SGD\n",
      "test set accuracy: 0.508\n",
      "--------------------------------------------------\n",
      "model: MLP L2 regulariz, sgd\n",
      "test set accuracy: 0.814\n",
      "--------------------------------------------------\n",
      "model: MLP L2 regulariz, sgd, 10% validation set\n",
      "test set accuracy: 0.814\n",
      "--------------------------------------------------\n",
      "model: MLP L2 regulariz, sgd, 10% validation set, ReLU & Softmax\n",
      "test set accuracy: 0.814\n",
      "--------------------------------------------------\n"
     ]
    }
   ],
   "source": [
    "print('-'* 50)\n",
    "for i in range(4):\n",
    "    print(f'model: {model_notes_list[i]}')\n",
    "    print(f'test set accuracy: {test_accuracy_list[i]:.3f}')\n",
    "    print('-'* 50)"
   ]
  },
  {
   "cell_type": "markdown",
   "metadata": {},
   "source": [
    "# RESULTS AND INTERPRETATION"
   ]
  },
  {
   "cell_type": "markdown",
   "metadata": {},
   "source": [
    "## Our group chose to use MLP with L2 regularization and sigmoid function as the activation function because it is simpler. Also, when looking at the plot, it was the most consistent with high level of accuracy without a severe dip."
   ]
  },
  {
   "cell_type": "code",
   "execution_count": 1021,
   "metadata": {},
   "outputs": [
    {
     "name": "stdout",
     "output_type": "stream",
     "text": [
      "\n",
      "MLP L2 regulariz, sgd\n"
     ]
    }
   ],
   "source": [
    "print('\\n' + model_notes_list[1])\n",
    "mlp = keras.Sequential([keras.layers.Dense(d, input_shape=(m,), activation='sigmoid', name='hidden', kernel_regularizer='l2'),\n",
    "                        keras.layers.Dense(t, activation='sigmoid', name='output', kernel_regularizer='l2')])\n",
    "mlp.compile(optimizer='adam', loss='mean_squared_error', metrics=['accuracy'])\n",
    "history = mlp.fit(x=X_train, y=y_train, batch_size=minibatch_size, epochs=epochs, verbose=0)\n",
    "scores = history.history\n",
    "mlp_list['setup_2'].append(mlp); scores_list['setup_2'].append(scores)"
   ]
  },
  {
   "cell_type": "markdown",
   "metadata": {},
   "source": [
    "# GET PREDICTION USING SCORE DATASET"
   ]
  },
  {
   "cell_type": "markdown",
   "metadata": {},
   "source": [
    "### Using the MLP L2 regularization with sigmoid model "
   ]
  },
  {
   "cell_type": "code",
   "execution_count": 1022,
   "metadata": {},
   "outputs": [],
   "source": [
    "\n",
    "#Use model to predict\n",
    "#check dimensions of y-pred\n",
    "y_predicted = mlp.predict(score_processed)"
   ]
  },
  {
   "cell_type": "code",
   "execution_count": 1023,
   "metadata": {},
   "outputs": [
    {
     "data": {
      "text/plain": [
       "(2000, 2)"
      ]
     },
     "execution_count": 1023,
     "metadata": {},
     "output_type": "execute_result"
    }
   ],
   "source": [
    "y_predicted.shape"
   ]
  },
  {
   "cell_type": "code",
   "execution_count": 1024,
   "metadata": {},
   "outputs": [],
   "source": [
    "df_Submit = df_score[['id_new']].copy()"
   ]
  },
  {
   "cell_type": "code",
   "execution_count": 1025,
   "metadata": {},
   "outputs": [],
   "source": [
    "df_Submit['probability'] = y_predicted[:, 1]"
   ]
  },
  {
   "cell_type": "code",
   "execution_count": 1026,
   "metadata": {},
   "outputs": [
    {
     "data": {
      "text/html": [
       "<div>\n",
       "<style scoped>\n",
       "    .dataframe tbody tr th:only-of-type {\n",
       "        vertical-align: middle;\n",
       "    }\n",
       "\n",
       "    .dataframe tbody tr th {\n",
       "        vertical-align: top;\n",
       "    }\n",
       "\n",
       "    .dataframe thead th {\n",
       "        text-align: right;\n",
       "    }\n",
       "</style>\n",
       "<table border=\"1\" class=\"dataframe\">\n",
       "  <thead>\n",
       "    <tr style=\"text-align: right;\">\n",
       "      <th></th>\n",
       "      <th>id_new</th>\n",
       "      <th>probability</th>\n",
       "    </tr>\n",
       "  </thead>\n",
       "  <tbody>\n",
       "    <tr>\n",
       "      <th>0</th>\n",
       "      <td>a00020460</td>\n",
       "      <td>0.184096</td>\n",
       "    </tr>\n",
       "    <tr>\n",
       "      <th>1</th>\n",
       "      <td>a00020461</td>\n",
       "      <td>0.184098</td>\n",
       "    </tr>\n",
       "    <tr>\n",
       "      <th>2</th>\n",
       "      <td>a00020462</td>\n",
       "      <td>0.184080</td>\n",
       "    </tr>\n",
       "    <tr>\n",
       "      <th>3</th>\n",
       "      <td>a00020463</td>\n",
       "      <td>0.184094</td>\n",
       "    </tr>\n",
       "    <tr>\n",
       "      <th>4</th>\n",
       "      <td>a00020464</td>\n",
       "      <td>0.184097</td>\n",
       "    </tr>\n",
       "  </tbody>\n",
       "</table>\n",
       "</div>"
      ],
      "text/plain": [
       "      id_new  probability\n",
       "0  a00020460     0.184096\n",
       "1  a00020461     0.184098\n",
       "2  a00020462     0.184080\n",
       "3  a00020463     0.184094\n",
       "4  a00020464     0.184097"
      ]
     },
     "metadata": {},
     "output_type": "display_data"
    }
   ],
   "source": [
    "display(df_Submit.head())"
   ]
  },
  {
   "cell_type": "code",
   "execution_count": 1027,
   "metadata": {},
   "outputs": [],
   "source": [
    "#add classification column\n",
    "df_Submit['classification'] = np.argmax(y_predicted, axis=-1)\n"
   ]
  },
  {
   "cell_type": "code",
   "execution_count": 1028,
   "metadata": {},
   "outputs": [
    {
     "data": {
      "text/html": [
       "<div>\n",
       "<style scoped>\n",
       "    .dataframe tbody tr th:only-of-type {\n",
       "        vertical-align: middle;\n",
       "    }\n",
       "\n",
       "    .dataframe tbody tr th {\n",
       "        vertical-align: top;\n",
       "    }\n",
       "\n",
       "    .dataframe thead th {\n",
       "        text-align: right;\n",
       "    }\n",
       "</style>\n",
       "<table border=\"1\" class=\"dataframe\">\n",
       "  <thead>\n",
       "    <tr style=\"text-align: right;\">\n",
       "      <th></th>\n",
       "      <th>id_new</th>\n",
       "      <th>probability</th>\n",
       "      <th>classification</th>\n",
       "    </tr>\n",
       "  </thead>\n",
       "  <tbody>\n",
       "    <tr>\n",
       "      <th>0</th>\n",
       "      <td>a00020460</td>\n",
       "      <td>0.184096</td>\n",
       "      <td>1</td>\n",
       "    </tr>\n",
       "    <tr>\n",
       "      <th>1</th>\n",
       "      <td>a00020461</td>\n",
       "      <td>0.184098</td>\n",
       "      <td>1</td>\n",
       "    </tr>\n",
       "    <tr>\n",
       "      <th>2</th>\n",
       "      <td>a00020462</td>\n",
       "      <td>0.184080</td>\n",
       "      <td>1</td>\n",
       "    </tr>\n",
       "    <tr>\n",
       "      <th>3</th>\n",
       "      <td>a00020463</td>\n",
       "      <td>0.184094</td>\n",
       "      <td>1</td>\n",
       "    </tr>\n",
       "    <tr>\n",
       "      <th>4</th>\n",
       "      <td>a00020464</td>\n",
       "      <td>0.184097</td>\n",
       "      <td>1</td>\n",
       "    </tr>\n",
       "  </tbody>\n",
       "</table>\n",
       "</div>"
      ],
      "text/plain": [
       "      id_new  probability  classification\n",
       "0  a00020460     0.184096               1\n",
       "1  a00020461     0.184098               1\n",
       "2  a00020462     0.184080               1\n",
       "3  a00020463     0.184094               1\n",
       "4  a00020464     0.184097               1"
      ]
     },
     "metadata": {},
     "output_type": "display_data"
    }
   ],
   "source": [
    "#print\n",
    "display(df_Submit.head())\n"
   ]
  },
  {
   "cell_type": "code",
   "execution_count": 1029,
   "metadata": {},
   "outputs": [],
   "source": [
    "#export\n",
    "df_Submit.to_csv('my_prediction.csv', index=False)\n"
   ]
  }
 ],
 "metadata": {
  "kernelspec": {
   "display_name": "Python 3",
   "language": "python",
   "name": "python3"
  },
  "language_info": {
   "codemirror_mode": {
    "name": "ipython",
    "version": 3
   },
   "file_extension": ".py",
   "mimetype": "text/x-python",
   "name": "python",
   "nbconvert_exporter": "python",
   "pygments_lexer": "ipython3",
   "version": "3.6.4"
  }
 },
 "nbformat": 4,
 "nbformat_minor": 4
}
